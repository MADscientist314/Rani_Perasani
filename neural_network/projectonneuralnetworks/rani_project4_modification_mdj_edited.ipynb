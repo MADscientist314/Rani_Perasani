{
  "nbformat": 4,
  "nbformat_minor": 0,
  "metadata": {
    "colab": {
      "name": "rani_project4_modification.ipynb",
      "provenance": [],
      "collapsed_sections": []
    },
    "kernelspec": {
      "name": "python3",
      "display_name": "Python 3",
      "language": "python"
    },
    "language_info": {
      "name": "python",
      "version": "3.7.0"
    }
  },
  "cells": [
    {
      "cell_type": "code",
      "metadata": {
        "id": "vhWOK-pTrpsX"
      },
      "source": [
        "import numpy as np\n",
        "np.random.seed(42)\n",
        "#from keras.models import Sequential\n",
        "#from keras.layers import Dense, Dropout, Activation, Flatten\n",
        "#from keras.layers import Conv2D, MaxPooling2D\n",
        "#from keras.utils import np_utils\n",
        "import pandas as pd"
      ],
      "execution_count": 40,
      "outputs": []
    },
    {
      "cell_type": "code",
      "metadata": {
        "colab": {
          "base_uri": "https://localhost:8080/"
        },
        "id": "GoXHczG-yL2L",
        "outputId": "a05ba34c-69b3-4384-d6d9-ef517d7a35c3"
      },
      "source": [
        "path='digits-train.data'\n",
        "train=pd.read_csv(path, sep=',')\n",
        "path='digits-test.data'\n",
        "test=pd.read_csv(path, sep=',')"
      ],
      "execution_count": 41,
      "outputs": []
    },
    {
      "cell_type": "code",
      "execution_count": 42,
      "metadata": {},
      "outputs": [],
      "source": [
        "y_train=train.iloc[:,1]\n",
        "X_train1=train.iloc[:,1:]"
      ]
    },
    {
      "cell_type": "code",
      "execution_count": 43,
      "metadata": {},
      "outputs": [
        {
          "output_type": "stream",
          "name": "stdout",
          "text": [
            "(3822, 64)\n"
          ]
        }
      ],
      "source": [
        "y_test=test.iloc[:,1:]\n",
        "X_test1=test.iloc[:,1:]\n",
        "print(X_train1.shape)"
      ]
    },
    {
      "cell_type": "code",
      "metadata": {
        "colab": {
          "base_uri": "https://localhost:8080/"
        },
        "id": "PeG6qnVSEPnT",
        "outputId": "4258dca2-c137-488c-9bc7-d16bc52186ff"
      },
      "source": [
        "np.unique(y_train)"
      ],
      "execution_count": 44,
      "outputs": [
        {
          "output_type": "execute_result",
          "data": {
            "text/plain": [
              "array([0, 1, 2, 3, 4, 5, 6, 7, 8], dtype=int64)"
            ]
          },
          "metadata": {},
          "execution_count": 44
        }
      ]
    },
    {
      "cell_type": "code",
      "metadata": {
        "colab": {
          "base_uri": "https://localhost:8080/"
        },
        "id": "6MtT4V2y59sX",
        "outputId": "ac50411f-5d45-4928-82c9-8a2267fdf054"
      },
      "source": [
        "X=X_train1.T\n",
        "y1=y_train.values\n",
        "y=y1.reshape((1,3822))\n",
        "np.shape(y)"
      ],
      "execution_count": 45,
      "outputs": [
        {
          "output_type": "execute_result",
          "data": {
            "text/plain": [
              "(1, 3822)"
            ]
          },
          "metadata": {},
          "execution_count": 45
        }
      ]
    },
    {
      "cell_type": "code",
      "metadata": {
        "id": "epiFeZ-868nO"
      },
      "source": [
        "def sigmoid(x):\n",
        "    return 1 / (1 + np.exp(-x))\n"
      ],
      "execution_count": 46,
      "outputs": []
    },
    {
      "cell_type": "code",
      "metadata": {
        "colab": {
          "base_uri": "https://localhost:8080/"
        },
        "id": "PhBxQwyIyrFL",
        "outputId": "9f562f93-88e3-4d44-bc9d-bb1f108958ec"
      },
      "source": [
        "# defining the model architecture\n",
        "i_neurons = X.shape[0]  # number of features in data set\n",
        "h_neurons = 10  # number of hidden layers neurons\n",
        "o_neurons = 1  # number of neurons at output layer\n",
        "\n",
        "# initializing weight\n",
        "wihidden = np.random.uniform(size=(i_neurons, h_neurons))\n",
        "whoutput = np.random.uniform(size=(h_neurons, o_neurons))\n",
        "\n",
        "# defining the parameters\n",
        "Lr = 0.01\n",
        "Epochs = 100\n",
        "\n",
        "losses = []\n",
        "for epoch in range(Epochs):\n",
        "    # Forward Propogation\n",
        "\n",
        "    # hidden layer activations\n",
        "    hlinearTransform = np.dot(wihidden.T, X)\n",
        "    hactivations = sigmoid(hlinearTransform)\n",
        "\n",
        "    olinearTransform = np.dot(\n",
        "        whoutput.T, hactivations\n",
        "    )\n",
        "    output = sigmoid(olinearTransform)\n",
        "\n",
        "    # Backward Propagation\n",
        "\n",
        "    # cal error\n",
        "    err = np.square(y - output) / 2\n",
        "\n",
        "    # cal rate of change of error w.r.t weight between hidden and output layer\n",
        "    err_wrt_output = -(y - output)\n",
        "    olt = np.multiply(output, (1 - output))\n",
        "    oo1 = hactivations\n",
        "\n",
        "    err_wrt_weights_hidden_output = np.dot(\n",
        "        oo1,\n",
        "        (err_wrt_output * olt).T,\n",
        "    )\n",
        "\n",
        "    # calculating rate of change of error w.r.t weights between input and hidden layer\n",
        "    olth = whoutput\n",
        "    hhlt = np.multiply(\n",
        "        hactivations, (1 - hactivations)\n",
        "    )\n",
        "    hlih = X\n",
        "    err_wrt_weights_input_hidden = np.dot(\n",
        "        hlih,\n",
        "        (\n",
        "            hhlt\n",
        "            * np.dot(\n",
        "                olth,\n",
        "                (olt * err_wrt_output),\n",
        "            )\n",
        "        ).T,\n",
        "    )\n",
        "\n",
        "    # update weights\n",
        "    whoutput = whoutput - Lr * err_wrt_weights_hidden_output\n",
        "    wihidden = wihidden - Lr * err_wrt_weights_input_hidden\n",
        "\n",
        "    # print error at every 10th epoch\n",
        "    epoch_loss = np.average(err)\n",
        "    if epoch % 1 == 0:\n",
        "        print(f\"Error at epoch {epoch} is {epoch_loss:.5f}\")\n",
        "\n",
        "    # appending the error of each epoch\n",
        "    losses.append(epoch_loss)"
      ],
      "execution_count": 47,
      "outputs": [
        {
          "output_type": "stream",
          "name": "stdout",
          "text": [
            "Error at epoch 0 is 0.61198\n",
            "Error at epoch 1 is 0.50595\n",
            "Error at epoch 2 is 0.42111\n",
            "Error at epoch 3 is 0.42111\n",
            "Error at epoch 4 is 0.42111\n",
            "Error at epoch 5 is 0.42111\n",
            "Error at epoch 6 is 0.42111\n",
            "Error at epoch 7 is 0.42111\n",
            "Error at epoch 8 is 0.42111\n",
            "Error at epoch 9 is 0.42111\n",
            "Error at epoch 10 is 0.42111\n",
            "Error at epoch 11 is 0.42111\n",
            "Error at epoch 12 is 0.42111\n",
            "Error at epoch 13 is 0.42111\n",
            "Error at epoch 14 is 0.42111\n",
            "Error at epoch 15 is 0.42111\n",
            "Error at epoch 16 is 0.42111\n",
            "Error at epoch 17 is 0.42111\n",
            "Error at epoch 18 is 0.42111\n",
            "Error at epoch 19 is 0.42111\n",
            "Error at epoch 20 is 0.42111\n",
            "Error at epoch 21 is 0.42111\n",
            "Error at epoch 22 is 0.42111\n",
            "Error at epoch 23 is 0.42111\n",
            "Error at epoch 24 is 0.42111\n",
            "Error at epoch 25 is 0.42111\n",
            "Error at epoch 26 is 0.42111\n",
            "Error at epoch 27 is 0.42111\n",
            "Error at epoch 28 is 0.42111\n",
            "Error at epoch 29 is 0.42111\n",
            "Error at epoch 30 is 0.42111\n",
            "Error at epoch 31 is 0.42111\n",
            "Error at epoch 32 is 0.42111\n",
            "Error at epoch 33 is 0.42111\n",
            "Error at epoch 34 is 0.42111\n",
            "Error at epoch 35 is 0.42111\n",
            "Error at epoch 36 is 0.42111\n",
            "Error at epoch 37 is 0.42111\n",
            "Error at epoch 38 is 0.42111\n",
            "Error at epoch 39 is 0.42111\n",
            "Error at epoch 40 is 0.42111\n",
            "Error at epoch 41 is 0.42111\n",
            "Error at epoch 42 is 0.42111\n",
            "Error at epoch 43 is 0.42111\n",
            "Error at epoch 44 is 0.42111\n",
            "Error at epoch 45 is 0.42111\n",
            "Error at epoch 46 is 0.42111\n",
            "Error at epoch 47 is 0.42111\n",
            "Error at epoch 48 is 0.42111\n",
            "Error at epoch 49 is 0.42111\n",
            "Error at epoch 50 is 0.42111\n",
            "Error at epoch 51 is 0.42111\n",
            "Error at epoch 52 is 0.42111\n",
            "Error at epoch 53 is 0.42111\n",
            "Error at epoch 54 is 0.42111\n",
            "Error at epoch 55 is 0.42111\n",
            "Error at epoch 56 is 0.42111\n",
            "Error at epoch 57 is 0.42111\n",
            "Error at epoch 58 is 0.42111\n",
            "Error at epoch 59 is 0.42111\n",
            "Error at epoch 60 is 0.42111\n",
            "Error at epoch 61 is 0.42111\n",
            "Error at epoch 62 is 0.42111\n",
            "Error at epoch 63 is 0.42111\n",
            "Error at epoch 64 is 0.42111\n",
            "Error at epoch 65 is 0.42111\n",
            "Error at epoch 66 is 0.42111\n",
            "Error at epoch 67 is 0.42111\n",
            "Error at epoch 68 is 0.42111\n",
            "Error at epoch 69 is 0.42111\n",
            "Error at epoch 70 is 0.42111\n",
            "Error at epoch 71 is 0.42111\n",
            "Error at epoch 72 is 0.42111\n",
            "Error at epoch 73 is 0.42111\n",
            "Error at epoch 74 is 0.42111\n",
            "Error at epoch 75 is 0.42111\n",
            "Error at epoch 76 is 0.42111\n",
            "Error at epoch 77 is 0.42111\n",
            "Error at epoch 78 is 0.42111\n",
            "Error at epoch 79 is 0.42111\n",
            "Error at epoch 80 is 0.42111\n",
            "Error at epoch 81 is 0.42111\n",
            "Error at epoch 82 is 0.42111\n",
            "Error at epoch 83 is 0.42111\n",
            "Error at epoch 84 is 0.42111\n",
            "Error at epoch 85 is 0.42111\n",
            "Error at epoch 86 is 0.42111\n",
            "Error at epoch 87 is 0.42111\n",
            "Error at epoch 88 is 0.42111\n",
            "Error at epoch 89 is 0.42111\n",
            "Error at epoch 90 is 0.42111\n",
            "Error at epoch 91 is 0.42111\n",
            "Error at epoch 92 is 0.42111\n",
            "Error at epoch 93 is 0.42111\n",
            "Error at epoch 94 is 0.42111\n",
            "Error at epoch 95 is 0.42111\n",
            "Error at epoch 96 is 0.42111\n",
            "Error at epoch 97 is 0.42111\n",
            "Error at epoch 98 is 0.42111\n",
            "Error at epoch 99 is 0.42111\n"
          ]
        }
      ]
    },
    {
      "cell_type": "code",
      "metadata": {
        "colab": {
          "base_uri": "https://localhost:8080/",
          "height": 283
        },
        "id": "j7-ntXZjHlyr",
        "outputId": "6202bf48-4543-4105-be02-1aa747816db3"
      },
      "source": [
        "#import matplotlib.pyplot as plt\n",
        "plt.plot(np.arange(1, Epochs + 1), np.array(losses))"
      ],
      "execution_count": 48,
      "outputs": [
        {
          "output_type": "execute_result",
          "data": {
            "text/plain": [
              "[<matplotlib.lines.Line2D at 0x12bfe810>]"
            ]
          },
          "metadata": {},
          "execution_count": 48
        },
        {
          "output_type": "display_data",
          "data": {
            "text/plain": "<Figure size 432x288 with 1 Axes>",
            "image/svg+xml": "<?xml version=\"1.0\" encoding=\"utf-8\" standalone=\"no\"?>\r\n<!DOCTYPE svg PUBLIC \"-//W3C//DTD SVG 1.1//EN\"\r\n  \"http://www.w3.org/Graphics/SVG/1.1/DTD/svg11.dtd\">\r\n<!-- Created with matplotlib (https://matplotlib.org/) -->\r\n<svg height=\"248.518125pt\" version=\"1.1\" viewBox=\"0 0 384.828125 248.518125\" width=\"384.828125pt\" xmlns=\"http://www.w3.org/2000/svg\" xmlns:xlink=\"http://www.w3.org/1999/xlink\">\r\n <defs>\r\n  <style type=\"text/css\">\r\n*{stroke-linecap:butt;stroke-linejoin:round;white-space:pre;}\r\n  </style>\r\n </defs>\r\n <g id=\"figure_1\">\r\n  <g id=\"patch_1\">\r\n   <path d=\"M 0 248.518125 \r\nL 384.828125 248.518125 \r\nL 384.828125 0 \r\nL 0 0 \r\nz\r\n\" style=\"fill:none;\"/>\r\n  </g>\r\n  <g id=\"axes_1\">\r\n   <g id=\"patch_2\">\r\n    <path d=\"M 42.828125 224.64 \r\nL 377.628125 224.64 \r\nL 377.628125 7.2 \r\nL 42.828125 7.2 \r\nz\r\n\" style=\"fill:#ffffff;\"/>\r\n   </g>\r\n   <g id=\"matplotlib.axis_1\">\r\n    <g id=\"xtick_1\">\r\n     <g id=\"line2d_1\">\r\n      <defs>\r\n       <path d=\"M 0 0 \r\nL 0 3.5 \r\n\" id=\"meb22ea5397\" style=\"stroke:#000000;stroke-width:0.8;\"/>\r\n      </defs>\r\n      <g>\r\n       <use style=\"stroke:#000000;stroke-width:0.8;\" x=\"54.971927\" xlink:href=\"#meb22ea5397\" y=\"224.64\"/>\r\n      </g>\r\n     </g>\r\n     <g id=\"text_1\">\r\n      <!-- 0 -->\r\n      <defs>\r\n       <path d=\"M 31.78125 66.40625 \r\nQ 24.171875 66.40625 20.328125 58.90625 \r\nQ 16.5 51.421875 16.5 36.375 \r\nQ 16.5 21.390625 20.328125 13.890625 \r\nQ 24.171875 6.390625 31.78125 6.390625 \r\nQ 39.453125 6.390625 43.28125 13.890625 \r\nQ 47.125 21.390625 47.125 36.375 \r\nQ 47.125 51.421875 43.28125 58.90625 \r\nQ 39.453125 66.40625 31.78125 66.40625 \r\nz\r\nM 31.78125 74.21875 \r\nQ 44.046875 74.21875 50.515625 64.515625 \r\nQ 56.984375 54.828125 56.984375 36.375 \r\nQ 56.984375 17.96875 50.515625 8.265625 \r\nQ 44.046875 -1.421875 31.78125 -1.421875 \r\nQ 19.53125 -1.421875 13.0625 8.265625 \r\nQ 6.59375 17.96875 6.59375 36.375 \r\nQ 6.59375 54.828125 13.0625 64.515625 \r\nQ 19.53125 74.21875 31.78125 74.21875 \r\nz\r\n\" id=\"DejaVuSans-48\"/>\r\n      </defs>\r\n      <g transform=\"translate(51.790677 239.238437)scale(0.1 -0.1)\">\r\n       <use xlink:href=\"#DejaVuSans-48\"/>\r\n      </g>\r\n     </g>\r\n    </g>\r\n    <g id=\"xtick_2\">\r\n     <g id=\"line2d_2\">\r\n      <g>\r\n       <use style=\"stroke:#000000;stroke-width:0.8;\" x=\"116.45953\" xlink:href=\"#meb22ea5397\" y=\"224.64\"/>\r\n      </g>\r\n     </g>\r\n     <g id=\"text_2\">\r\n      <!-- 20 -->\r\n      <defs>\r\n       <path d=\"M 19.1875 8.296875 \r\nL 53.609375 8.296875 \r\nL 53.609375 0 \r\nL 7.328125 0 \r\nL 7.328125 8.296875 \r\nQ 12.9375 14.109375 22.625 23.890625 \r\nQ 32.328125 33.6875 34.8125 36.53125 \r\nQ 39.546875 41.84375 41.421875 45.53125 \r\nQ 43.3125 49.21875 43.3125 52.78125 \r\nQ 43.3125 58.59375 39.234375 62.25 \r\nQ 35.15625 65.921875 28.609375 65.921875 \r\nQ 23.96875 65.921875 18.8125 64.3125 \r\nQ 13.671875 62.703125 7.8125 59.421875 \r\nL 7.8125 69.390625 \r\nQ 13.765625 71.78125 18.9375 73 \r\nQ 24.125 74.21875 28.421875 74.21875 \r\nQ 39.75 74.21875 46.484375 68.546875 \r\nQ 53.21875 62.890625 53.21875 53.421875 \r\nQ 53.21875 48.921875 51.53125 44.890625 \r\nQ 49.859375 40.875 45.40625 35.40625 \r\nQ 44.1875 33.984375 37.640625 27.21875 \r\nQ 31.109375 20.453125 19.1875 8.296875 \r\nz\r\n\" id=\"DejaVuSans-50\"/>\r\n      </defs>\r\n      <g transform=\"translate(110.09703 239.238437)scale(0.1 -0.1)\">\r\n       <use xlink:href=\"#DejaVuSans-50\"/>\r\n       <use x=\"63.623047\" xlink:href=\"#DejaVuSans-48\"/>\r\n      </g>\r\n     </g>\r\n    </g>\r\n    <g id=\"xtick_3\">\r\n     <g id=\"line2d_3\">\r\n      <g>\r\n       <use style=\"stroke:#000000;stroke-width:0.8;\" x=\"177.947133\" xlink:href=\"#meb22ea5397\" y=\"224.64\"/>\r\n      </g>\r\n     </g>\r\n     <g id=\"text_3\">\r\n      <!-- 40 -->\r\n      <defs>\r\n       <path d=\"M 37.796875 64.3125 \r\nL 12.890625 25.390625 \r\nL 37.796875 25.390625 \r\nz\r\nM 35.203125 72.90625 \r\nL 47.609375 72.90625 \r\nL 47.609375 25.390625 \r\nL 58.015625 25.390625 \r\nL 58.015625 17.1875 \r\nL 47.609375 17.1875 \r\nL 47.609375 0 \r\nL 37.796875 0 \r\nL 37.796875 17.1875 \r\nL 4.890625 17.1875 \r\nL 4.890625 26.703125 \r\nz\r\n\" id=\"DejaVuSans-52\"/>\r\n      </defs>\r\n      <g transform=\"translate(171.584633 239.238437)scale(0.1 -0.1)\">\r\n       <use xlink:href=\"#DejaVuSans-52\"/>\r\n       <use x=\"63.623047\" xlink:href=\"#DejaVuSans-48\"/>\r\n      </g>\r\n     </g>\r\n    </g>\r\n    <g id=\"xtick_4\">\r\n     <g id=\"line2d_4\">\r\n      <g>\r\n       <use style=\"stroke:#000000;stroke-width:0.8;\" x=\"239.434737\" xlink:href=\"#meb22ea5397\" y=\"224.64\"/>\r\n      </g>\r\n     </g>\r\n     <g id=\"text_4\">\r\n      <!-- 60 -->\r\n      <defs>\r\n       <path d=\"M 33.015625 40.375 \r\nQ 26.375 40.375 22.484375 35.828125 \r\nQ 18.609375 31.296875 18.609375 23.390625 \r\nQ 18.609375 15.53125 22.484375 10.953125 \r\nQ 26.375 6.390625 33.015625 6.390625 \r\nQ 39.65625 6.390625 43.53125 10.953125 \r\nQ 47.40625 15.53125 47.40625 23.390625 \r\nQ 47.40625 31.296875 43.53125 35.828125 \r\nQ 39.65625 40.375 33.015625 40.375 \r\nz\r\nM 52.59375 71.296875 \r\nL 52.59375 62.3125 \r\nQ 48.875 64.0625 45.09375 64.984375 \r\nQ 41.3125 65.921875 37.59375 65.921875 \r\nQ 27.828125 65.921875 22.671875 59.328125 \r\nQ 17.53125 52.734375 16.796875 39.40625 \r\nQ 19.671875 43.65625 24.015625 45.921875 \r\nQ 28.375 48.1875 33.59375 48.1875 \r\nQ 44.578125 48.1875 50.953125 41.515625 \r\nQ 57.328125 34.859375 57.328125 23.390625 \r\nQ 57.328125 12.15625 50.6875 5.359375 \r\nQ 44.046875 -1.421875 33.015625 -1.421875 \r\nQ 20.359375 -1.421875 13.671875 8.265625 \r\nQ 6.984375 17.96875 6.984375 36.375 \r\nQ 6.984375 53.65625 15.1875 63.9375 \r\nQ 23.390625 74.21875 37.203125 74.21875 \r\nQ 40.921875 74.21875 44.703125 73.484375 \r\nQ 48.484375 72.75 52.59375 71.296875 \r\nz\r\n\" id=\"DejaVuSans-54\"/>\r\n      </defs>\r\n      <g transform=\"translate(233.072237 239.238437)scale(0.1 -0.1)\">\r\n       <use xlink:href=\"#DejaVuSans-54\"/>\r\n       <use x=\"63.623047\" xlink:href=\"#DejaVuSans-48\"/>\r\n      </g>\r\n     </g>\r\n    </g>\r\n    <g id=\"xtick_5\">\r\n     <g id=\"line2d_5\">\r\n      <g>\r\n       <use style=\"stroke:#000000;stroke-width:0.8;\" x=\"300.92234\" xlink:href=\"#meb22ea5397\" y=\"224.64\"/>\r\n      </g>\r\n     </g>\r\n     <g id=\"text_5\">\r\n      <!-- 80 -->\r\n      <defs>\r\n       <path d=\"M 31.78125 34.625 \r\nQ 24.75 34.625 20.71875 30.859375 \r\nQ 16.703125 27.09375 16.703125 20.515625 \r\nQ 16.703125 13.921875 20.71875 10.15625 \r\nQ 24.75 6.390625 31.78125 6.390625 \r\nQ 38.8125 6.390625 42.859375 10.171875 \r\nQ 46.921875 13.96875 46.921875 20.515625 \r\nQ 46.921875 27.09375 42.890625 30.859375 \r\nQ 38.875 34.625 31.78125 34.625 \r\nz\r\nM 21.921875 38.8125 \r\nQ 15.578125 40.375 12.03125 44.71875 \r\nQ 8.5 49.078125 8.5 55.328125 \r\nQ 8.5 64.0625 14.71875 69.140625 \r\nQ 20.953125 74.21875 31.78125 74.21875 \r\nQ 42.671875 74.21875 48.875 69.140625 \r\nQ 55.078125 64.0625 55.078125 55.328125 \r\nQ 55.078125 49.078125 51.53125 44.71875 \r\nQ 48 40.375 41.703125 38.8125 \r\nQ 48.828125 37.15625 52.796875 32.3125 \r\nQ 56.78125 27.484375 56.78125 20.515625 \r\nQ 56.78125 9.90625 50.3125 4.234375 \r\nQ 43.84375 -1.421875 31.78125 -1.421875 \r\nQ 19.734375 -1.421875 13.25 4.234375 \r\nQ 6.78125 9.90625 6.78125 20.515625 \r\nQ 6.78125 27.484375 10.78125 32.3125 \r\nQ 14.796875 37.15625 21.921875 38.8125 \r\nz\r\nM 18.3125 54.390625 \r\nQ 18.3125 48.734375 21.84375 45.5625 \r\nQ 25.390625 42.390625 31.78125 42.390625 \r\nQ 38.140625 42.390625 41.71875 45.5625 \r\nQ 45.3125 48.734375 45.3125 54.390625 \r\nQ 45.3125 60.0625 41.71875 63.234375 \r\nQ 38.140625 66.40625 31.78125 66.40625 \r\nQ 25.390625 66.40625 21.84375 63.234375 \r\nQ 18.3125 60.0625 18.3125 54.390625 \r\nz\r\n\" id=\"DejaVuSans-56\"/>\r\n      </defs>\r\n      <g transform=\"translate(294.55984 239.238437)scale(0.1 -0.1)\">\r\n       <use xlink:href=\"#DejaVuSans-56\"/>\r\n       <use x=\"63.623047\" xlink:href=\"#DejaVuSans-48\"/>\r\n      </g>\r\n     </g>\r\n    </g>\r\n    <g id=\"xtick_6\">\r\n     <g id=\"line2d_6\">\r\n      <g>\r\n       <use style=\"stroke:#000000;stroke-width:0.8;\" x=\"362.409943\" xlink:href=\"#meb22ea5397\" y=\"224.64\"/>\r\n      </g>\r\n     </g>\r\n     <g id=\"text_6\">\r\n      <!-- 100 -->\r\n      <defs>\r\n       <path d=\"M 12.40625 8.296875 \r\nL 28.515625 8.296875 \r\nL 28.515625 63.921875 \r\nL 10.984375 60.40625 \r\nL 10.984375 69.390625 \r\nL 28.421875 72.90625 \r\nL 38.28125 72.90625 \r\nL 38.28125 8.296875 \r\nL 54.390625 8.296875 \r\nL 54.390625 0 \r\nL 12.40625 0 \r\nz\r\n\" id=\"DejaVuSans-49\"/>\r\n      </defs>\r\n      <g transform=\"translate(352.866193 239.238437)scale(0.1 -0.1)\">\r\n       <use xlink:href=\"#DejaVuSans-49\"/>\r\n       <use x=\"63.623047\" xlink:href=\"#DejaVuSans-48\"/>\r\n       <use x=\"127.246094\" xlink:href=\"#DejaVuSans-48\"/>\r\n      </g>\r\n     </g>\r\n    </g>\r\n   </g>\r\n   <g id=\"matplotlib.axis_2\">\r\n    <g id=\"ytick_1\">\r\n     <g id=\"line2d_7\">\r\n      <defs>\r\n       <path d=\"M 0 0 \r\nL -3.5 0 \r\n\" id=\"m22d6db939c\" style=\"stroke:#000000;stroke-width:0.8;\"/>\r\n      </defs>\r\n      <g>\r\n       <use style=\"stroke:#000000;stroke-width:0.8;\" x=\"42.828125\" xlink:href=\"#m22d6db939c\" y=\"210.732302\"/>\r\n      </g>\r\n     </g>\r\n     <g id=\"text_7\">\r\n      <!-- 0.425 -->\r\n      <defs>\r\n       <path d=\"M 10.6875 12.40625 \r\nL 21 12.40625 \r\nL 21 0 \r\nL 10.6875 0 \r\nz\r\n\" id=\"DejaVuSans-46\"/>\r\n       <path d=\"M 10.796875 72.90625 \r\nL 49.515625 72.90625 \r\nL 49.515625 64.59375 \r\nL 19.828125 64.59375 \r\nL 19.828125 46.734375 \r\nQ 21.96875 47.46875 24.109375 47.828125 \r\nQ 26.265625 48.1875 28.421875 48.1875 \r\nQ 40.625 48.1875 47.75 41.5 \r\nQ 54.890625 34.8125 54.890625 23.390625 \r\nQ 54.890625 11.625 47.5625 5.09375 \r\nQ 40.234375 -1.421875 26.90625 -1.421875 \r\nQ 22.3125 -1.421875 17.546875 -0.640625 \r\nQ 12.796875 0.140625 7.71875 1.703125 \r\nL 7.71875 11.625 \r\nQ 12.109375 9.234375 16.796875 8.0625 \r\nQ 21.484375 6.890625 26.703125 6.890625 \r\nQ 35.15625 6.890625 40.078125 11.328125 \r\nQ 45.015625 15.765625 45.015625 23.390625 \r\nQ 45.015625 31 40.078125 35.4375 \r\nQ 35.15625 39.890625 26.703125 39.890625 \r\nQ 22.75 39.890625 18.8125 39.015625 \r\nQ 14.890625 38.140625 10.796875 36.28125 \r\nz\r\n\" id=\"DejaVuSans-53\"/>\r\n      </defs>\r\n      <g transform=\"translate(7.2 214.531521)scale(0.1 -0.1)\">\r\n       <use xlink:href=\"#DejaVuSans-48\"/>\r\n       <use x=\"63.623047\" xlink:href=\"#DejaVuSans-46\"/>\r\n       <use x=\"95.410156\" xlink:href=\"#DejaVuSans-52\"/>\r\n       <use x=\"159.033203\" xlink:href=\"#DejaVuSans-50\"/>\r\n       <use x=\"222.65625\" xlink:href=\"#DejaVuSans-53\"/>\r\n      </g>\r\n     </g>\r\n    </g>\r\n    <g id=\"ytick_2\">\r\n     <g id=\"line2d_8\">\r\n      <g>\r\n       <use style=\"stroke:#000000;stroke-width:0.8;\" x=\"42.828125\" xlink:href=\"#m22d6db939c\" y=\"184.840111\"/>\r\n      </g>\r\n     </g>\r\n     <g id=\"text_8\">\r\n      <!-- 0.450 -->\r\n      <g transform=\"translate(7.2 188.639329)scale(0.1 -0.1)\">\r\n       <use xlink:href=\"#DejaVuSans-48\"/>\r\n       <use x=\"63.623047\" xlink:href=\"#DejaVuSans-46\"/>\r\n       <use x=\"95.410156\" xlink:href=\"#DejaVuSans-52\"/>\r\n       <use x=\"159.033203\" xlink:href=\"#DejaVuSans-53\"/>\r\n       <use x=\"222.65625\" xlink:href=\"#DejaVuSans-48\"/>\r\n      </g>\r\n     </g>\r\n    </g>\r\n    <g id=\"ytick_3\">\r\n     <g id=\"line2d_9\">\r\n      <g>\r\n       <use style=\"stroke:#000000;stroke-width:0.8;\" x=\"42.828125\" xlink:href=\"#m22d6db939c\" y=\"158.947919\"/>\r\n      </g>\r\n     </g>\r\n     <g id=\"text_9\">\r\n      <!-- 0.475 -->\r\n      <defs>\r\n       <path d=\"M 8.203125 72.90625 \r\nL 55.078125 72.90625 \r\nL 55.078125 68.703125 \r\nL 28.609375 0 \r\nL 18.3125 0 \r\nL 43.21875 64.59375 \r\nL 8.203125 64.59375 \r\nz\r\n\" id=\"DejaVuSans-55\"/>\r\n      </defs>\r\n      <g transform=\"translate(7.2 162.747138)scale(0.1 -0.1)\">\r\n       <use xlink:href=\"#DejaVuSans-48\"/>\r\n       <use x=\"63.623047\" xlink:href=\"#DejaVuSans-46\"/>\r\n       <use x=\"95.410156\" xlink:href=\"#DejaVuSans-52\"/>\r\n       <use x=\"159.033203\" xlink:href=\"#DejaVuSans-55\"/>\r\n       <use x=\"222.65625\" xlink:href=\"#DejaVuSans-53\"/>\r\n      </g>\r\n     </g>\r\n    </g>\r\n    <g id=\"ytick_4\">\r\n     <g id=\"line2d_10\">\r\n      <g>\r\n       <use style=\"stroke:#000000;stroke-width:0.8;\" x=\"42.828125\" xlink:href=\"#m22d6db939c\" y=\"133.055727\"/>\r\n      </g>\r\n     </g>\r\n     <g id=\"text_10\">\r\n      <!-- 0.500 -->\r\n      <g transform=\"translate(7.2 136.854946)scale(0.1 -0.1)\">\r\n       <use xlink:href=\"#DejaVuSans-48\"/>\r\n       <use x=\"63.623047\" xlink:href=\"#DejaVuSans-46\"/>\r\n       <use x=\"95.410156\" xlink:href=\"#DejaVuSans-53\"/>\r\n       <use x=\"159.033203\" xlink:href=\"#DejaVuSans-48\"/>\r\n       <use x=\"222.65625\" xlink:href=\"#DejaVuSans-48\"/>\r\n      </g>\r\n     </g>\r\n    </g>\r\n    <g id=\"ytick_5\">\r\n     <g id=\"line2d_11\">\r\n      <g>\r\n       <use style=\"stroke:#000000;stroke-width:0.8;\" x=\"42.828125\" xlink:href=\"#m22d6db939c\" y=\"107.163536\"/>\r\n      </g>\r\n     </g>\r\n     <g id=\"text_11\">\r\n      <!-- 0.525 -->\r\n      <g transform=\"translate(7.2 110.962754)scale(0.1 -0.1)\">\r\n       <use xlink:href=\"#DejaVuSans-48\"/>\r\n       <use x=\"63.623047\" xlink:href=\"#DejaVuSans-46\"/>\r\n       <use x=\"95.410156\" xlink:href=\"#DejaVuSans-53\"/>\r\n       <use x=\"159.033203\" xlink:href=\"#DejaVuSans-50\"/>\r\n       <use x=\"222.65625\" xlink:href=\"#DejaVuSans-53\"/>\r\n      </g>\r\n     </g>\r\n    </g>\r\n    <g id=\"ytick_6\">\r\n     <g id=\"line2d_12\">\r\n      <g>\r\n       <use style=\"stroke:#000000;stroke-width:0.8;\" x=\"42.828125\" xlink:href=\"#m22d6db939c\" y=\"81.271344\"/>\r\n      </g>\r\n     </g>\r\n     <g id=\"text_12\">\r\n      <!-- 0.550 -->\r\n      <g transform=\"translate(7.2 85.070563)scale(0.1 -0.1)\">\r\n       <use xlink:href=\"#DejaVuSans-48\"/>\r\n       <use x=\"63.623047\" xlink:href=\"#DejaVuSans-46\"/>\r\n       <use x=\"95.410156\" xlink:href=\"#DejaVuSans-53\"/>\r\n       <use x=\"159.033203\" xlink:href=\"#DejaVuSans-53\"/>\r\n       <use x=\"222.65625\" xlink:href=\"#DejaVuSans-48\"/>\r\n      </g>\r\n     </g>\r\n    </g>\r\n    <g id=\"ytick_7\">\r\n     <g id=\"line2d_13\">\r\n      <g>\r\n       <use style=\"stroke:#000000;stroke-width:0.8;\" x=\"42.828125\" xlink:href=\"#m22d6db939c\" y=\"55.379152\"/>\r\n      </g>\r\n     </g>\r\n     <g id=\"text_13\">\r\n      <!-- 0.575 -->\r\n      <g transform=\"translate(7.2 59.178371)scale(0.1 -0.1)\">\r\n       <use xlink:href=\"#DejaVuSans-48\"/>\r\n       <use x=\"63.623047\" xlink:href=\"#DejaVuSans-46\"/>\r\n       <use x=\"95.410156\" xlink:href=\"#DejaVuSans-53\"/>\r\n       <use x=\"159.033203\" xlink:href=\"#DejaVuSans-55\"/>\r\n       <use x=\"222.65625\" xlink:href=\"#DejaVuSans-53\"/>\r\n      </g>\r\n     </g>\r\n    </g>\r\n    <g id=\"ytick_8\">\r\n     <g id=\"line2d_14\">\r\n      <g>\r\n       <use style=\"stroke:#000000;stroke-width:0.8;\" x=\"42.828125\" xlink:href=\"#m22d6db939c\" y=\"29.486961\"/>\r\n      </g>\r\n     </g>\r\n     <g id=\"text_14\">\r\n      <!-- 0.600 -->\r\n      <g transform=\"translate(7.2 33.286179)scale(0.1 -0.1)\">\r\n       <use xlink:href=\"#DejaVuSans-48\"/>\r\n       <use x=\"63.623047\" xlink:href=\"#DejaVuSans-46\"/>\r\n       <use x=\"95.410156\" xlink:href=\"#DejaVuSans-54\"/>\r\n       <use x=\"159.033203\" xlink:href=\"#DejaVuSans-48\"/>\r\n       <use x=\"222.65625\" xlink:href=\"#DejaVuSans-48\"/>\r\n      </g>\r\n     </g>\r\n    </g>\r\n   </g>\r\n   <g id=\"line2d_15\">\r\n    <path clip-path=\"url(#pc147a15b28)\" d=\"M 58.046307 17.083636 \r\nL 61.120687 126.895545 \r\nL 64.195067 214.756364 \r\nL 67.269447 214.756364 \r\nL 70.343827 214.756364 \r\nL 73.418208 214.756364 \r\nL 76.492588 214.756364 \r\nL 79.566968 214.756364 \r\nL 82.641348 214.756364 \r\nL 85.715728 214.756364 \r\nL 88.790108 214.756364 \r\nL 91.864489 214.756364 \r\nL 94.938869 214.756364 \r\nL 98.013249 214.756364 \r\nL 101.087629 214.756364 \r\nL 104.162009 214.756364 \r\nL 107.236389 214.756364 \r\nL 110.31077 214.756364 \r\nL 113.38515 214.756364 \r\nL 116.45953 214.756364 \r\nL 119.53391 214.756364 \r\nL 122.60829 214.756364 \r\nL 125.68267 214.756364 \r\nL 128.757051 214.756364 \r\nL 131.831431 214.756364 \r\nL 134.905811 214.756364 \r\nL 137.980191 214.756364 \r\nL 141.054571 214.756364 \r\nL 144.128951 214.756364 \r\nL 147.203332 214.756364 \r\nL 150.277712 214.756364 \r\nL 153.352092 214.756364 \r\nL 156.426472 214.756364 \r\nL 159.500852 214.756364 \r\nL 162.575232 214.756364 \r\nL 165.649613 214.756364 \r\nL 168.723993 214.756364 \r\nL 171.798373 214.756364 \r\nL 174.872753 214.756364 \r\nL 177.947133 214.756364 \r\nL 181.021513 214.756364 \r\nL 184.095894 214.756364 \r\nL 187.170274 214.756364 \r\nL 190.244654 214.756364 \r\nL 193.319034 214.756364 \r\nL 196.393414 214.756364 \r\nL 199.467794 214.756364 \r\nL 202.542175 214.756364 \r\nL 205.616555 214.756364 \r\nL 208.690935 214.756364 \r\nL 211.765315 214.756364 \r\nL 214.839695 214.756364 \r\nL 217.914075 214.756364 \r\nL 220.988456 214.756364 \r\nL 224.062836 214.756364 \r\nL 227.137216 214.756364 \r\nL 230.211596 214.756364 \r\nL 233.285976 214.756364 \r\nL 236.360356 214.756364 \r\nL 239.434737 214.756364 \r\nL 242.509117 214.756364 \r\nL 245.583497 214.756364 \r\nL 248.657877 214.756364 \r\nL 251.732257 214.756364 \r\nL 254.806637 214.756364 \r\nL 257.881018 214.756364 \r\nL 260.955398 214.756364 \r\nL 264.029778 214.756364 \r\nL 267.104158 214.756364 \r\nL 270.178538 214.756364 \r\nL 273.252918 214.756364 \r\nL 276.327299 214.756364 \r\nL 279.401679 214.756364 \r\nL 282.476059 214.756364 \r\nL 285.550439 214.756364 \r\nL 288.624819 214.756364 \r\nL 291.699199 214.756364 \r\nL 294.77358 214.756364 \r\nL 297.84796 214.756364 \r\nL 300.92234 214.756364 \r\nL 303.99672 214.756364 \r\nL 307.0711 214.756364 \r\nL 310.14548 214.756364 \r\nL 313.219861 214.756364 \r\nL 316.294241 214.756364 \r\nL 319.368621 214.756364 \r\nL 322.443001 214.756364 \r\nL 325.517381 214.756364 \r\nL 328.591761 214.756364 \r\nL 331.666142 214.756364 \r\nL 334.740522 214.756364 \r\nL 337.814902 214.756364 \r\nL 340.889282 214.756364 \r\nL 343.963662 214.756364 \r\nL 347.038042 214.756364 \r\nL 350.112423 214.756364 \r\nL 353.186803 214.756364 \r\nL 356.261183 214.756364 \r\nL 359.335563 214.756364 \r\nL 362.409943 214.756364 \r\n\" style=\"fill:none;stroke:#1f77b4;stroke-linecap:square;stroke-width:1.5;\"/>\r\n   </g>\r\n   <g id=\"patch_3\">\r\n    <path d=\"M 42.828125 224.64 \r\nL 42.828125 7.2 \r\n\" style=\"fill:none;stroke:#000000;stroke-linecap:square;stroke-linejoin:miter;stroke-width:0.8;\"/>\r\n   </g>\r\n   <g id=\"patch_4\">\r\n    <path d=\"M 377.628125 224.64 \r\nL 377.628125 7.2 \r\n\" style=\"fill:none;stroke:#000000;stroke-linecap:square;stroke-linejoin:miter;stroke-width:0.8;\"/>\r\n   </g>\r\n   <g id=\"patch_5\">\r\n    <path d=\"M 42.828125 224.64 \r\nL 377.628125 224.64 \r\n\" style=\"fill:none;stroke:#000000;stroke-linecap:square;stroke-linejoin:miter;stroke-width:0.8;\"/>\r\n   </g>\r\n   <g id=\"patch_6\">\r\n    <path d=\"M 42.828125 7.2 \r\nL 377.628125 7.2 \r\n\" style=\"fill:none;stroke:#000000;stroke-linecap:square;stroke-linejoin:miter;stroke-width:0.8;\"/>\r\n   </g>\r\n  </g>\r\n </g>\r\n <defs>\r\n  <clipPath id=\"pc147a15b28\">\r\n   <rect height=\"217.44\" width=\"334.8\" x=\"42.828125\" y=\"7.2\"/>\r\n  </clipPath>\r\n </defs>\r\n</svg>\r\n",
            "image/png": "[encoded data removed]"
          },
          "metadata": {
            "needs_background": "light"
          }
        }
      ]
    },
    {
      "cell_type": "code",
      "metadata": {
        "colab": {
          "base_uri": "https://localhost:8080/"
        },
        "id": "uZwp_5Zd71HI",
        "outputId": "38c719c1-2dad-40dc-f59d-befaa64c1117"
      },
      "source": [
        "X=X_test1.T\n",
        "y1=y_test.values\n",
        "np.shape(y1)"
      ],
      "execution_count": 49,
      "outputs": [
        {
          "output_type": "execute_result",
          "data": {
            "text/plain": [
              "(1796, 0)"
            ]
          },
          "metadata": {},
          "execution_count": 49
        }
      ]
    },
    {
      "cell_type": "code",
      "execution_count": 50,
      "metadata": {},
      "outputs": [
        {
          "output_type": "error",
          "ename": "ValueError",
          "evalue": "cannot reshape array of size 0 into shape (1,1796)",
          "traceback": [
            "\u001b[1;31m---------------------------------------------------------------------------\u001b[0m",
            "\u001b[1;31mValueError\u001b[0m                                Traceback (most recent call last)",
            "\u001b[1;32m<ipython-input-50-19c1ebe8b486>\u001b[0m in \u001b[0;36m<module>\u001b[1;34m\u001b[0m\n\u001b[1;32m----> 1\u001b[1;33m \u001b[0my\u001b[0m\u001b[1;33m=\u001b[0m\u001b[0my1\u001b[0m\u001b[1;33m.\u001b[0m\u001b[0mreshape\u001b[0m\u001b[1;33m(\u001b[0m\u001b[1;33m(\u001b[0m\u001b[1;36m1\u001b[0m\u001b[1;33m,\u001b[0m\u001b[1;36m1796\u001b[0m\u001b[1;33m)\u001b[0m\u001b[1;33m)\u001b[0m\u001b[1;33m\u001b[0m\u001b[0m\n\u001b[0m\u001b[0;32m      2\u001b[0m \u001b[0mnp\u001b[0m\u001b[1;33m.\u001b[0m\u001b[0mshape\u001b[0m\u001b[1;33m(\u001b[0m\u001b[0my\u001b[0m\u001b[1;33m)\u001b[0m\u001b[1;33m\u001b[0m\u001b[0m\n",
            "\u001b[1;31mValueError\u001b[0m: cannot reshape array of size 0 into shape (1,1796)"
          ]
        }
      ],
      "source": [
        "y=y1.reshape((1,1796))\n",
        "np.shape(y)"
      ]
    },
    {
      "cell_type": "markdown",
      "metadata": {
        "id": "dYw3r6ZfKCQL"
      },
      "source": [
        "Test Digit Data"
      ]
    },
    {
      "cell_type": "code",
      "metadata": {
        "colab": {
          "base_uri": "https://localhost:8080/"
        },
        "id": "wfNWFgM42iLD",
        "outputId": "ada0382f-2eb3-4b95-ab99-8145535875c4"
      },
      "source": [
        "hlinearTransform = np.dot(wihidden.T, X)\n",
        "hactivations = sigmoid(hlinearTransform)\n",
        "\n",
        "olinearTransform = np.dot(whoutput.T, hactivations)\n",
        "output = sigmoid(olinearTransform)\n",
        "\n",
        "\n",
        "err = np.average(np.square(y - output))\n",
        "\n",
        "print(err)"
      ],
      "execution_count": 51,
      "outputs": [
        {
          "output_type": "error",
          "ename": "ValueError",
          "evalue": "shapes (10,64) and (0,1796) not aligned: 64 (dim 1) != 0 (dim 0)",
          "traceback": [
            "\u001b[1;31m---------------------------------------------------------------------------\u001b[0m",
            "\u001b[1;31mValueError\u001b[0m                                Traceback (most recent call last)",
            "\u001b[1;32m<ipython-input-51-9b40b40c1d81>\u001b[0m in \u001b[0;36m<module>\u001b[1;34m\u001b[0m\n\u001b[1;32m----> 1\u001b[1;33m \u001b[0mhlinearTransform\u001b[0m \u001b[1;33m=\u001b[0m \u001b[0mnp\u001b[0m\u001b[1;33m.\u001b[0m\u001b[0mdot\u001b[0m\u001b[1;33m(\u001b[0m\u001b[0mwihidden\u001b[0m\u001b[1;33m.\u001b[0m\u001b[0mT\u001b[0m\u001b[1;33m,\u001b[0m \u001b[0mX\u001b[0m\u001b[1;33m)\u001b[0m\u001b[1;33m\u001b[0m\u001b[0m\n\u001b[0m\u001b[0;32m      2\u001b[0m \u001b[0mhactivations\u001b[0m \u001b[1;33m=\u001b[0m \u001b[0msigmoid\u001b[0m\u001b[1;33m(\u001b[0m\u001b[0mhlinearTransform\u001b[0m\u001b[1;33m)\u001b[0m\u001b[1;33m\u001b[0m\u001b[0m\n\u001b[0;32m      3\u001b[0m \u001b[1;33m\u001b[0m\u001b[0m\n\u001b[0;32m      4\u001b[0m \u001b[0molinearTransform\u001b[0m \u001b[1;33m=\u001b[0m \u001b[0mnp\u001b[0m\u001b[1;33m.\u001b[0m\u001b[0mdot\u001b[0m\u001b[1;33m(\u001b[0m\u001b[0mwhoutput\u001b[0m\u001b[1;33m.\u001b[0m\u001b[0mT\u001b[0m\u001b[1;33m,\u001b[0m \u001b[0mhactivations\u001b[0m\u001b[1;33m)\u001b[0m\u001b[1;33m\u001b[0m\u001b[0m\n\u001b[0;32m      5\u001b[0m \u001b[0moutput\u001b[0m \u001b[1;33m=\u001b[0m \u001b[0msigmoid\u001b[0m\u001b[1;33m(\u001b[0m\u001b[0molinearTransform\u001b[0m\u001b[1;33m)\u001b[0m\u001b[1;33m\u001b[0m\u001b[0m\n",
            "\u001b[1;31mValueError\u001b[0m: shapes (10,64) and (0,1796) not aligned: 64 (dim 1) != 0 (dim 0)"
          ]
        }
      ]
    },
    {
      "cell_type": "code",
      "metadata": {
        "colab": {
          "base_uri": "https://localhost:8080/"
        },
        "id": "jcAaCd3yA4BL",
        "outputId": "d5231674-da83-47f1-b5ff-706a00c97d3c"
      },
      "source": [
        "#"
      ],
      "execution_count": 52,
      "outputs": []
    },
    {
      "cell_type": "code",
      "metadata": {
        "colab": {
          "base_uri": "https://localhost:8080/"
        },
        "id": "qAstePs_KSej",
        "outputId": "296fb3e0-1bf8-4c29-d4e2-c4ca2d1219c7"
      },
      "source": [
        "X=X_train1.T\n",
        "y1=y_train\n",
        "#y=y1.reshape((1,13))\n",
        "np.shape(y)"
      ],
      "execution_count": 55,
      "outputs": [
        {
          "output_type": "execute_result",
          "data": {
            "text/plain": [
              "(1, 3822)"
            ]
          },
          "metadata": {},
          "execution_count": 55
        }
      ]
    },
    {
      "cell_type": "code",
      "metadata": {
        "colab": {
          "base_uri": "https://localhost:8080/"
        },
        "id": "gv14F-5uKP1E",
        "outputId": "6064958a-e1e6-4b98-c763-caadb85dce8c"
      },
      "source": [
        "# defining the model architecture\n",
        "i_neurons = X.shape[0]  # number of features in data set\n",
        "h_neurons = 10  # number of hidden layers neurons\n",
        "o_neurons = 1  # number of neurons at output layer\n",
        "\n",
        "# initializing weight\n",
        "wihidden = np.random.uniform(size=(i_neurons, h_neurons))\n",
        "whoutput = np.random.uniform(size=(h_neurons, o_neurons))\n",
        "\n",
        "# defining the parameters\n",
        "Lr = 0.01\n",
        "Epochs = 100\n",
        "\n",
        "losses = []\n",
        "for epoch in range(Epochs):\n",
        "    # Forward Propogation\n",
        "\n",
        "    # hidden layer activations\n",
        "    hlinearTransform = np.dot(wihidden.T, X)\n",
        "    hactivations = sigmoid(hlinearTransform)\n",
        "\n",
        "    olinearTransform = np.dot(\n",
        "        whoutput.T, hactivations\n",
        "    )\n",
        "    output = sigmoid(olinearTransform)\n",
        "\n",
        "    # Backward Propagation\n",
        "\n",
        "    # cal error\n",
        "    err = np.square(y - output) / 2\n",
        "\n",
        "    # cal rate of change of error w.r.t weight between hidden and output layer\n",
        "    err_wrt_output = -(y - output)\n",
        "    olt = np.multiply(output, (1 - output))\n",
        "    oo1 = hactivations\n",
        "\n",
        "    err_wrt_weights_hidden_output = np.dot(\n",
        "        oo1,\n",
        "        (err_wrt_output * olt).T,\n",
        "    )\n",
        "\n",
        "    # calculating rate of change of error w.r.t weights between input and hidden layer\n",
        "    olth = whoutput\n",
        "    hhlt = np.multiply(\n",
        "        hactivations, (1 - hactivations)\n",
        "    )\n",
        "    hlih = X\n",
        "    err_wrt_weights_input_hidden = np.dot(\n",
        "        hlih,\n",
        "        (\n",
        "            hhlt\n",
        "            * np.dot(\n",
        "                olth,\n",
        "                (olt * err_wrt_output),\n",
        "            )\n",
        "        ).T,\n",
        "    )\n",
        "\n",
        "    # update weights\n",
        "    whoutput = whoutput - Lr * err_wrt_weights_hidden_output\n",
        "    wihidden = wihidden - Lr * err_wrt_weights_input_hidden\n",
        "\n",
        "    # print error at every 10th epoch\n",
        "    epoch_loss = np.average(err)\n",
        "    if epoch % 1 == 0:\n",
        "        print(f\"Error at epoch {epoch} is {epoch_loss:.5f}\")\n",
        "\n",
        "    # appending the error of each epoch\n",
        "    losses.append(epoch_loss)"
      ],
      "execution_count": 56,
      "outputs": [
        {
          "output_type": "stream",
          "name": "stdout",
          "text": [
            "Error at epoch 0 is 0.61158\n",
            "Error at epoch 1 is 0.49034\n",
            "Error at epoch 2 is 0.42111\n",
            "Error at epoch 3 is 0.42111\n",
            "Error at epoch 4 is 0.42111\n",
            "Error at epoch 5 is 0.42111\n",
            "Error at epoch 6 is 0.42111\n",
            "Error at epoch 7 is 0.42111\n",
            "Error at epoch 8 is 0.42111\n",
            "Error at epoch 9 is 0.42111\n",
            "Error at epoch 10 is 0.42111\n",
            "Error at epoch 11 is 0.42111\n",
            "Error at epoch 12 is 0.42111\n",
            "Error at epoch 13 is 0.42111\n",
            "Error at epoch 14 is 0.42111\n",
            "Error at epoch 15 is 0.42111\n",
            "Error at epoch 16 is 0.42111\n",
            "Error at epoch 17 is 0.42111\n",
            "Error at epoch 18 is 0.42111\n",
            "Error at epoch 19 is 0.42111\n",
            "Error at epoch 20 is 0.42111\n",
            "Error at epoch 21 is 0.42111\n",
            "Error at epoch 22 is 0.42111\n",
            "Error at epoch 23 is 0.42111\n",
            "Error at epoch 24 is 0.42111\n",
            "Error at epoch 25 is 0.42111\n",
            "Error at epoch 26 is 0.42111\n",
            "Error at epoch 27 is 0.42111\n",
            "Error at epoch 28 is 0.42111\n",
            "Error at epoch 29 is 0.42111\n",
            "Error at epoch 30 is 0.42111\n",
            "Error at epoch 31 is 0.42111\n",
            "Error at epoch 32 is 0.42111\n",
            "Error at epoch 33 is 0.42111\n",
            "Error at epoch 34 is 0.42111\n",
            "Error at epoch 35 is 0.42111\n",
            "Error at epoch 36 is 0.42111\n",
            "Error at epoch 37 is 0.42111\n",
            "Error at epoch 38 is 0.42111\n",
            "Error at epoch 39 is 0.42111\n",
            "Error at epoch 40 is 0.42111\n",
            "Error at epoch 41 is 0.42111\n",
            "Error at epoch 42 is 0.42111\n",
            "Error at epoch 43 is 0.42111\n",
            "Error at epoch 44 is 0.42111\n",
            "Error at epoch 45 is 0.42111\n",
            "Error at epoch 46 is 0.42111\n",
            "Error at epoch 47 is 0.42111\n",
            "Error at epoch 48 is 0.42111\n",
            "Error at epoch 49 is 0.42111\n",
            "Error at epoch 50 is 0.42111\n",
            "Error at epoch 51 is 0.42111\n",
            "Error at epoch 52 is 0.42111\n",
            "Error at epoch 53 is 0.42111\n",
            "Error at epoch 54 is 0.42111\n",
            "Error at epoch 55 is 0.42111\n",
            "Error at epoch 56 is 0.42111\n",
            "Error at epoch 57 is 0.42111\n",
            "Error at epoch 58 is 0.42111\n",
            "Error at epoch 59 is 0.42111\n",
            "Error at epoch 60 is 0.42111\n",
            "Error at epoch 61 is 0.42111\n",
            "Error at epoch 62 is 0.42111\n",
            "Error at epoch 63 is 0.42111\n",
            "Error at epoch 64 is 0.42111\n",
            "Error at epoch 65 is 0.42111\n",
            "Error at epoch 66 is 0.42111\n",
            "Error at epoch 67 is 0.42111\n",
            "Error at epoch 68 is 0.42111\n",
            "Error at epoch 69 is 0.42111\n",
            "Error at epoch 70 is 0.42111\n",
            "Error at epoch 71 is 0.42111\n",
            "Error at epoch 72 is 0.42111\n",
            "Error at epoch 73 is 0.42111\n",
            "Error at epoch 74 is 0.42111\n",
            "Error at epoch 75 is 0.42111\n",
            "Error at epoch 76 is 0.42111\n",
            "Error at epoch 77 is 0.42111\n",
            "Error at epoch 78 is 0.42111\n",
            "Error at epoch 79 is 0.42111\n",
            "Error at epoch 80 is 0.42111\n",
            "Error at epoch 81 is 0.42111\n",
            "Error at epoch 82 is 0.42111\n",
            "Error at epoch 83 is 0.42111\n",
            "Error at epoch 84 is 0.42111\n",
            "Error at epoch 85 is 0.42111\n",
            "Error at epoch 86 is 0.42111\n",
            "Error at epoch 87 is 0.42111\n",
            "Error at epoch 88 is 0.42111\n",
            "Error at epoch 89 is 0.42111\n",
            "Error at epoch 90 is 0.42111\n",
            "Error at epoch 91 is 0.42111\n",
            "Error at epoch 92 is 0.42111\n",
            "Error at epoch 93 is 0.42111\n",
            "Error at epoch 94 is 0.42111\n",
            "Error at epoch 95 is 0.42111\n",
            "Error at epoch 96 is 0.42111\n",
            "Error at epoch 97 is 0.42111\n",
            "Error at epoch 98 is 0.42111\n",
            "Error at epoch 99 is 0.42111\n"
          ]
        }
      ]
    },
    {
      "cell_type": "code",
      "metadata": {
        "colab": {
          "base_uri": "https://localhost:8080/",
          "height": 283
        },
        "id": "xAgDwHLnKyYM",
        "outputId": "704b8e14-20ad-4027-ad7c-ea6a0fbedf62"
      },
      "source": [
        "import matplotlib.pyplot as plt\n",
        "plt.plot(np.arange(1, Epochs + 1), np.array(losses))"
      ],
      "execution_count": 57,
      "outputs": [
        {
          "output_type": "execute_result",
          "data": {
            "text/plain": [
              "[<matplotlib.lines.Line2D at 0x1317ad30>]"
            ]
          },
          "metadata": {},
          "execution_count": 57
        },
        {
          "output_type": "display_data",
          "data": {
            "text/plain": "<Figure size 432x288 with 1 Axes>",
            "image/svg+xml": "<?xml version=\"1.0\" encoding=\"utf-8\" standalone=\"no\"?>\r\n<!DOCTYPE svg PUBLIC \"-//W3C//DTD SVG 1.1//EN\"\r\n  \"http://www.w3.org/Graphics/SVG/1.1/DTD/svg11.dtd\">\r\n<!-- Created with matplotlib (https://matplotlib.org/) -->\r\n<svg height=\"248.518125pt\" version=\"1.1\" viewBox=\"0 0 384.828125 248.518125\" width=\"384.828125pt\" xmlns=\"http://www.w3.org/2000/svg\" xmlns:xlink=\"http://www.w3.org/1999/xlink\">\r\n <defs>\r\n  <style type=\"text/css\">\r\n*{stroke-linecap:butt;stroke-linejoin:round;white-space:pre;}\r\n  </style>\r\n </defs>\r\n <g id=\"figure_1\">\r\n  <g id=\"patch_1\">\r\n   <path d=\"M 0 248.518125 \r\nL 384.828125 248.518125 \r\nL 384.828125 0 \r\nL 0 0 \r\nz\r\n\" style=\"fill:none;\"/>\r\n  </g>\r\n  <g id=\"axes_1\">\r\n   <g id=\"patch_2\">\r\n    <path d=\"M 42.828125 224.64 \r\nL 377.628125 224.64 \r\nL 377.628125 7.2 \r\nL 42.828125 7.2 \r\nz\r\n\" style=\"fill:#ffffff;\"/>\r\n   </g>\r\n   <g id=\"matplotlib.axis_1\">\r\n    <g id=\"xtick_1\">\r\n     <g id=\"line2d_1\">\r\n      <defs>\r\n       <path d=\"M 0 0 \r\nL 0 3.5 \r\n\" id=\"m534cf3f465\" style=\"stroke:#000000;stroke-width:0.8;\"/>\r\n      </defs>\r\n      <g>\r\n       <use style=\"stroke:#000000;stroke-width:0.8;\" x=\"54.971927\" xlink:href=\"#m534cf3f465\" y=\"224.64\"/>\r\n      </g>\r\n     </g>\r\n     <g id=\"text_1\">\r\n      <!-- 0 -->\r\n      <defs>\r\n       <path d=\"M 31.78125 66.40625 \r\nQ 24.171875 66.40625 20.328125 58.90625 \r\nQ 16.5 51.421875 16.5 36.375 \r\nQ 16.5 21.390625 20.328125 13.890625 \r\nQ 24.171875 6.390625 31.78125 6.390625 \r\nQ 39.453125 6.390625 43.28125 13.890625 \r\nQ 47.125 21.390625 47.125 36.375 \r\nQ 47.125 51.421875 43.28125 58.90625 \r\nQ 39.453125 66.40625 31.78125 66.40625 \r\nz\r\nM 31.78125 74.21875 \r\nQ 44.046875 74.21875 50.515625 64.515625 \r\nQ 56.984375 54.828125 56.984375 36.375 \r\nQ 56.984375 17.96875 50.515625 8.265625 \r\nQ 44.046875 -1.421875 31.78125 -1.421875 \r\nQ 19.53125 -1.421875 13.0625 8.265625 \r\nQ 6.59375 17.96875 6.59375 36.375 \r\nQ 6.59375 54.828125 13.0625 64.515625 \r\nQ 19.53125 74.21875 31.78125 74.21875 \r\nz\r\n\" id=\"DejaVuSans-48\"/>\r\n      </defs>\r\n      <g transform=\"translate(51.790677 239.238437)scale(0.1 -0.1)\">\r\n       <use xlink:href=\"#DejaVuSans-48\"/>\r\n      </g>\r\n     </g>\r\n    </g>\r\n    <g id=\"xtick_2\">\r\n     <g id=\"line2d_2\">\r\n      <g>\r\n       <use style=\"stroke:#000000;stroke-width:0.8;\" x=\"116.45953\" xlink:href=\"#m534cf3f465\" y=\"224.64\"/>\r\n      </g>\r\n     </g>\r\n     <g id=\"text_2\">\r\n      <!-- 20 -->\r\n      <defs>\r\n       <path d=\"M 19.1875 8.296875 \r\nL 53.609375 8.296875 \r\nL 53.609375 0 \r\nL 7.328125 0 \r\nL 7.328125 8.296875 \r\nQ 12.9375 14.109375 22.625 23.890625 \r\nQ 32.328125 33.6875 34.8125 36.53125 \r\nQ 39.546875 41.84375 41.421875 45.53125 \r\nQ 43.3125 49.21875 43.3125 52.78125 \r\nQ 43.3125 58.59375 39.234375 62.25 \r\nQ 35.15625 65.921875 28.609375 65.921875 \r\nQ 23.96875 65.921875 18.8125 64.3125 \r\nQ 13.671875 62.703125 7.8125 59.421875 \r\nL 7.8125 69.390625 \r\nQ 13.765625 71.78125 18.9375 73 \r\nQ 24.125 74.21875 28.421875 74.21875 \r\nQ 39.75 74.21875 46.484375 68.546875 \r\nQ 53.21875 62.890625 53.21875 53.421875 \r\nQ 53.21875 48.921875 51.53125 44.890625 \r\nQ 49.859375 40.875 45.40625 35.40625 \r\nQ 44.1875 33.984375 37.640625 27.21875 \r\nQ 31.109375 20.453125 19.1875 8.296875 \r\nz\r\n\" id=\"DejaVuSans-50\"/>\r\n      </defs>\r\n      <g transform=\"translate(110.09703 239.238437)scale(0.1 -0.1)\">\r\n       <use xlink:href=\"#DejaVuSans-50\"/>\r\n       <use x=\"63.623047\" xlink:href=\"#DejaVuSans-48\"/>\r\n      </g>\r\n     </g>\r\n    </g>\r\n    <g id=\"xtick_3\">\r\n     <g id=\"line2d_3\">\r\n      <g>\r\n       <use style=\"stroke:#000000;stroke-width:0.8;\" x=\"177.947133\" xlink:href=\"#m534cf3f465\" y=\"224.64\"/>\r\n      </g>\r\n     </g>\r\n     <g id=\"text_3\">\r\n      <!-- 40 -->\r\n      <defs>\r\n       <path d=\"M 37.796875 64.3125 \r\nL 12.890625 25.390625 \r\nL 37.796875 25.390625 \r\nz\r\nM 35.203125 72.90625 \r\nL 47.609375 72.90625 \r\nL 47.609375 25.390625 \r\nL 58.015625 25.390625 \r\nL 58.015625 17.1875 \r\nL 47.609375 17.1875 \r\nL 47.609375 0 \r\nL 37.796875 0 \r\nL 37.796875 17.1875 \r\nL 4.890625 17.1875 \r\nL 4.890625 26.703125 \r\nz\r\n\" id=\"DejaVuSans-52\"/>\r\n      </defs>\r\n      <g transform=\"translate(171.584633 239.238437)scale(0.1 -0.1)\">\r\n       <use xlink:href=\"#DejaVuSans-52\"/>\r\n       <use x=\"63.623047\" xlink:href=\"#DejaVuSans-48\"/>\r\n      </g>\r\n     </g>\r\n    </g>\r\n    <g id=\"xtick_4\">\r\n     <g id=\"line2d_4\">\r\n      <g>\r\n       <use style=\"stroke:#000000;stroke-width:0.8;\" x=\"239.434737\" xlink:href=\"#m534cf3f465\" y=\"224.64\"/>\r\n      </g>\r\n     </g>\r\n     <g id=\"text_4\">\r\n      <!-- 60 -->\r\n      <defs>\r\n       <path d=\"M 33.015625 40.375 \r\nQ 26.375 40.375 22.484375 35.828125 \r\nQ 18.609375 31.296875 18.609375 23.390625 \r\nQ 18.609375 15.53125 22.484375 10.953125 \r\nQ 26.375 6.390625 33.015625 6.390625 \r\nQ 39.65625 6.390625 43.53125 10.953125 \r\nQ 47.40625 15.53125 47.40625 23.390625 \r\nQ 47.40625 31.296875 43.53125 35.828125 \r\nQ 39.65625 40.375 33.015625 40.375 \r\nz\r\nM 52.59375 71.296875 \r\nL 52.59375 62.3125 \r\nQ 48.875 64.0625 45.09375 64.984375 \r\nQ 41.3125 65.921875 37.59375 65.921875 \r\nQ 27.828125 65.921875 22.671875 59.328125 \r\nQ 17.53125 52.734375 16.796875 39.40625 \r\nQ 19.671875 43.65625 24.015625 45.921875 \r\nQ 28.375 48.1875 33.59375 48.1875 \r\nQ 44.578125 48.1875 50.953125 41.515625 \r\nQ 57.328125 34.859375 57.328125 23.390625 \r\nQ 57.328125 12.15625 50.6875 5.359375 \r\nQ 44.046875 -1.421875 33.015625 -1.421875 \r\nQ 20.359375 -1.421875 13.671875 8.265625 \r\nQ 6.984375 17.96875 6.984375 36.375 \r\nQ 6.984375 53.65625 15.1875 63.9375 \r\nQ 23.390625 74.21875 37.203125 74.21875 \r\nQ 40.921875 74.21875 44.703125 73.484375 \r\nQ 48.484375 72.75 52.59375 71.296875 \r\nz\r\n\" id=\"DejaVuSans-54\"/>\r\n      </defs>\r\n      <g transform=\"translate(233.072237 239.238437)scale(0.1 -0.1)\">\r\n       <use xlink:href=\"#DejaVuSans-54\"/>\r\n       <use x=\"63.623047\" xlink:href=\"#DejaVuSans-48\"/>\r\n      </g>\r\n     </g>\r\n    </g>\r\n    <g id=\"xtick_5\">\r\n     <g id=\"line2d_5\">\r\n      <g>\r\n       <use style=\"stroke:#000000;stroke-width:0.8;\" x=\"300.92234\" xlink:href=\"#m534cf3f465\" y=\"224.64\"/>\r\n      </g>\r\n     </g>\r\n     <g id=\"text_5\">\r\n      <!-- 80 -->\r\n      <defs>\r\n       <path d=\"M 31.78125 34.625 \r\nQ 24.75 34.625 20.71875 30.859375 \r\nQ 16.703125 27.09375 16.703125 20.515625 \r\nQ 16.703125 13.921875 20.71875 10.15625 \r\nQ 24.75 6.390625 31.78125 6.390625 \r\nQ 38.8125 6.390625 42.859375 10.171875 \r\nQ 46.921875 13.96875 46.921875 20.515625 \r\nQ 46.921875 27.09375 42.890625 30.859375 \r\nQ 38.875 34.625 31.78125 34.625 \r\nz\r\nM 21.921875 38.8125 \r\nQ 15.578125 40.375 12.03125 44.71875 \r\nQ 8.5 49.078125 8.5 55.328125 \r\nQ 8.5 64.0625 14.71875 69.140625 \r\nQ 20.953125 74.21875 31.78125 74.21875 \r\nQ 42.671875 74.21875 48.875 69.140625 \r\nQ 55.078125 64.0625 55.078125 55.328125 \r\nQ 55.078125 49.078125 51.53125 44.71875 \r\nQ 48 40.375 41.703125 38.8125 \r\nQ 48.828125 37.15625 52.796875 32.3125 \r\nQ 56.78125 27.484375 56.78125 20.515625 \r\nQ 56.78125 9.90625 50.3125 4.234375 \r\nQ 43.84375 -1.421875 31.78125 -1.421875 \r\nQ 19.734375 -1.421875 13.25 4.234375 \r\nQ 6.78125 9.90625 6.78125 20.515625 \r\nQ 6.78125 27.484375 10.78125 32.3125 \r\nQ 14.796875 37.15625 21.921875 38.8125 \r\nz\r\nM 18.3125 54.390625 \r\nQ 18.3125 48.734375 21.84375 45.5625 \r\nQ 25.390625 42.390625 31.78125 42.390625 \r\nQ 38.140625 42.390625 41.71875 45.5625 \r\nQ 45.3125 48.734375 45.3125 54.390625 \r\nQ 45.3125 60.0625 41.71875 63.234375 \r\nQ 38.140625 66.40625 31.78125 66.40625 \r\nQ 25.390625 66.40625 21.84375 63.234375 \r\nQ 18.3125 60.0625 18.3125 54.390625 \r\nz\r\n\" id=\"DejaVuSans-56\"/>\r\n      </defs>\r\n      <g transform=\"translate(294.55984 239.238437)scale(0.1 -0.1)\">\r\n       <use xlink:href=\"#DejaVuSans-56\"/>\r\n       <use x=\"63.623047\" xlink:href=\"#DejaVuSans-48\"/>\r\n      </g>\r\n     </g>\r\n    </g>\r\n    <g id=\"xtick_6\">\r\n     <g id=\"line2d_6\">\r\n      <g>\r\n       <use style=\"stroke:#000000;stroke-width:0.8;\" x=\"362.409943\" xlink:href=\"#m534cf3f465\" y=\"224.64\"/>\r\n      </g>\r\n     </g>\r\n     <g id=\"text_6\">\r\n      <!-- 100 -->\r\n      <defs>\r\n       <path d=\"M 12.40625 8.296875 \r\nL 28.515625 8.296875 \r\nL 28.515625 63.921875 \r\nL 10.984375 60.40625 \r\nL 10.984375 69.390625 \r\nL 28.421875 72.90625 \r\nL 38.28125 72.90625 \r\nL 38.28125 8.296875 \r\nL 54.390625 8.296875 \r\nL 54.390625 0 \r\nL 12.40625 0 \r\nz\r\n\" id=\"DejaVuSans-49\"/>\r\n      </defs>\r\n      <g transform=\"translate(352.866193 239.238437)scale(0.1 -0.1)\">\r\n       <use xlink:href=\"#DejaVuSans-49\"/>\r\n       <use x=\"63.623047\" xlink:href=\"#DejaVuSans-48\"/>\r\n       <use x=\"127.246094\" xlink:href=\"#DejaVuSans-48\"/>\r\n      </g>\r\n     </g>\r\n    </g>\r\n   </g>\r\n   <g id=\"matplotlib.axis_2\">\r\n    <g id=\"ytick_1\">\r\n     <g id=\"line2d_7\">\r\n      <defs>\r\n       <path d=\"M 0 0 \r\nL -3.5 0 \r\n\" id=\"mb7b88e78c3\" style=\"stroke:#000000;stroke-width:0.8;\"/>\r\n      </defs>\r\n      <g>\r\n       <use style=\"stroke:#000000;stroke-width:0.8;\" x=\"42.828125\" xlink:href=\"#mb7b88e78c3\" y=\"210.723942\"/>\r\n      </g>\r\n     </g>\r\n     <g id=\"text_7\">\r\n      <!-- 0.425 -->\r\n      <defs>\r\n       <path d=\"M 10.6875 12.40625 \r\nL 21 12.40625 \r\nL 21 0 \r\nL 10.6875 0 \r\nz\r\n\" id=\"DejaVuSans-46\"/>\r\n       <path d=\"M 10.796875 72.90625 \r\nL 49.515625 72.90625 \r\nL 49.515625 64.59375 \r\nL 19.828125 64.59375 \r\nL 19.828125 46.734375 \r\nQ 21.96875 47.46875 24.109375 47.828125 \r\nQ 26.265625 48.1875 28.421875 48.1875 \r\nQ 40.625 48.1875 47.75 41.5 \r\nQ 54.890625 34.8125 54.890625 23.390625 \r\nQ 54.890625 11.625 47.5625 5.09375 \r\nQ 40.234375 -1.421875 26.90625 -1.421875 \r\nQ 22.3125 -1.421875 17.546875 -0.640625 \r\nQ 12.796875 0.140625 7.71875 1.703125 \r\nL 7.71875 11.625 \r\nQ 12.109375 9.234375 16.796875 8.0625 \r\nQ 21.484375 6.890625 26.703125 6.890625 \r\nQ 35.15625 6.890625 40.078125 11.328125 \r\nQ 45.015625 15.765625 45.015625 23.390625 \r\nQ 45.015625 31 40.078125 35.4375 \r\nQ 35.15625 39.890625 26.703125 39.890625 \r\nQ 22.75 39.890625 18.8125 39.015625 \r\nQ 14.890625 38.140625 10.796875 36.28125 \r\nz\r\n\" id=\"DejaVuSans-53\"/>\r\n      </defs>\r\n      <g transform=\"translate(7.2 214.52316)scale(0.1 -0.1)\">\r\n       <use xlink:href=\"#DejaVuSans-48\"/>\r\n       <use x=\"63.623047\" xlink:href=\"#DejaVuSans-46\"/>\r\n       <use x=\"95.410156\" xlink:href=\"#DejaVuSans-52\"/>\r\n       <use x=\"159.033203\" xlink:href=\"#DejaVuSans-50\"/>\r\n       <use x=\"222.65625\" xlink:href=\"#DejaVuSans-53\"/>\r\n      </g>\r\n     </g>\r\n    </g>\r\n    <g id=\"ytick_2\">\r\n     <g id=\"line2d_8\">\r\n      <g>\r\n       <use style=\"stroke:#000000;stroke-width:0.8;\" x=\"42.828125\" xlink:href=\"#mb7b88e78c3\" y=\"184.777953\"/>\r\n      </g>\r\n     </g>\r\n     <g id=\"text_8\">\r\n      <!-- 0.450 -->\r\n      <g transform=\"translate(7.2 188.577171)scale(0.1 -0.1)\">\r\n       <use xlink:href=\"#DejaVuSans-48\"/>\r\n       <use x=\"63.623047\" xlink:href=\"#DejaVuSans-46\"/>\r\n       <use x=\"95.410156\" xlink:href=\"#DejaVuSans-52\"/>\r\n       <use x=\"159.033203\" xlink:href=\"#DejaVuSans-53\"/>\r\n       <use x=\"222.65625\" xlink:href=\"#DejaVuSans-48\"/>\r\n      </g>\r\n     </g>\r\n    </g>\r\n    <g id=\"ytick_3\">\r\n     <g id=\"line2d_9\">\r\n      <g>\r\n       <use style=\"stroke:#000000;stroke-width:0.8;\" x=\"42.828125\" xlink:href=\"#mb7b88e78c3\" y=\"158.831964\"/>\r\n      </g>\r\n     </g>\r\n     <g id=\"text_9\">\r\n      <!-- 0.475 -->\r\n      <defs>\r\n       <path d=\"M 8.203125 72.90625 \r\nL 55.078125 72.90625 \r\nL 55.078125 68.703125 \r\nL 28.609375 0 \r\nL 18.3125 0 \r\nL 43.21875 64.59375 \r\nL 8.203125 64.59375 \r\nz\r\n\" id=\"DejaVuSans-55\"/>\r\n      </defs>\r\n      <g transform=\"translate(7.2 162.631183)scale(0.1 -0.1)\">\r\n       <use xlink:href=\"#DejaVuSans-48\"/>\r\n       <use x=\"63.623047\" xlink:href=\"#DejaVuSans-46\"/>\r\n       <use x=\"95.410156\" xlink:href=\"#DejaVuSans-52\"/>\r\n       <use x=\"159.033203\" xlink:href=\"#DejaVuSans-55\"/>\r\n       <use x=\"222.65625\" xlink:href=\"#DejaVuSans-53\"/>\r\n      </g>\r\n     </g>\r\n    </g>\r\n    <g id=\"ytick_4\">\r\n     <g id=\"line2d_10\">\r\n      <g>\r\n       <use style=\"stroke:#000000;stroke-width:0.8;\" x=\"42.828125\" xlink:href=\"#mb7b88e78c3\" y=\"132.885975\"/>\r\n      </g>\r\n     </g>\r\n     <g id=\"text_10\">\r\n      <!-- 0.500 -->\r\n      <g transform=\"translate(7.2 136.685194)scale(0.1 -0.1)\">\r\n       <use xlink:href=\"#DejaVuSans-48\"/>\r\n       <use x=\"63.623047\" xlink:href=\"#DejaVuSans-46\"/>\r\n       <use x=\"95.410156\" xlink:href=\"#DejaVuSans-53\"/>\r\n       <use x=\"159.033203\" xlink:href=\"#DejaVuSans-48\"/>\r\n       <use x=\"222.65625\" xlink:href=\"#DejaVuSans-48\"/>\r\n      </g>\r\n     </g>\r\n    </g>\r\n    <g id=\"ytick_5\">\r\n     <g id=\"line2d_11\">\r\n      <g>\r\n       <use style=\"stroke:#000000;stroke-width:0.8;\" x=\"42.828125\" xlink:href=\"#mb7b88e78c3\" y=\"106.939986\"/>\r\n      </g>\r\n     </g>\r\n     <g id=\"text_11\">\r\n      <!-- 0.525 -->\r\n      <g transform=\"translate(7.2 110.739205)scale(0.1 -0.1)\">\r\n       <use xlink:href=\"#DejaVuSans-48\"/>\r\n       <use x=\"63.623047\" xlink:href=\"#DejaVuSans-46\"/>\r\n       <use x=\"95.410156\" xlink:href=\"#DejaVuSans-53\"/>\r\n       <use x=\"159.033203\" xlink:href=\"#DejaVuSans-50\"/>\r\n       <use x=\"222.65625\" xlink:href=\"#DejaVuSans-53\"/>\r\n      </g>\r\n     </g>\r\n    </g>\r\n    <g id=\"ytick_6\">\r\n     <g id=\"line2d_12\">\r\n      <g>\r\n       <use style=\"stroke:#000000;stroke-width:0.8;\" x=\"42.828125\" xlink:href=\"#mb7b88e78c3\" y=\"80.993998\"/>\r\n      </g>\r\n     </g>\r\n     <g id=\"text_12\">\r\n      <!-- 0.550 -->\r\n      <g transform=\"translate(7.2 84.793216)scale(0.1 -0.1)\">\r\n       <use xlink:href=\"#DejaVuSans-48\"/>\r\n       <use x=\"63.623047\" xlink:href=\"#DejaVuSans-46\"/>\r\n       <use x=\"95.410156\" xlink:href=\"#DejaVuSans-53\"/>\r\n       <use x=\"159.033203\" xlink:href=\"#DejaVuSans-53\"/>\r\n       <use x=\"222.65625\" xlink:href=\"#DejaVuSans-48\"/>\r\n      </g>\r\n     </g>\r\n    </g>\r\n    <g id=\"ytick_7\">\r\n     <g id=\"line2d_13\">\r\n      <g>\r\n       <use style=\"stroke:#000000;stroke-width:0.8;\" x=\"42.828125\" xlink:href=\"#mb7b88e78c3\" y=\"55.048009\"/>\r\n      </g>\r\n     </g>\r\n     <g id=\"text_13\">\r\n      <!-- 0.575 -->\r\n      <g transform=\"translate(7.2 58.847228)scale(0.1 -0.1)\">\r\n       <use xlink:href=\"#DejaVuSans-48\"/>\r\n       <use x=\"63.623047\" xlink:href=\"#DejaVuSans-46\"/>\r\n       <use x=\"95.410156\" xlink:href=\"#DejaVuSans-53\"/>\r\n       <use x=\"159.033203\" xlink:href=\"#DejaVuSans-55\"/>\r\n       <use x=\"222.65625\" xlink:href=\"#DejaVuSans-53\"/>\r\n      </g>\r\n     </g>\r\n    </g>\r\n    <g id=\"ytick_8\">\r\n     <g id=\"line2d_14\">\r\n      <g>\r\n       <use style=\"stroke:#000000;stroke-width:0.8;\" x=\"42.828125\" xlink:href=\"#mb7b88e78c3\" y=\"29.10202\"/>\r\n      </g>\r\n     </g>\r\n     <g id=\"text_14\">\r\n      <!-- 0.600 -->\r\n      <g transform=\"translate(7.2 32.901239)scale(0.1 -0.1)\">\r\n       <use xlink:href=\"#DejaVuSans-48\"/>\r\n       <use x=\"63.623047\" xlink:href=\"#DejaVuSans-46\"/>\r\n       <use x=\"95.410156\" xlink:href=\"#DejaVuSans-54\"/>\r\n       <use x=\"159.033203\" xlink:href=\"#DejaVuSans-48\"/>\r\n       <use x=\"222.65625\" xlink:href=\"#DejaVuSans-48\"/>\r\n      </g>\r\n     </g>\r\n    </g>\r\n   </g>\r\n   <g id=\"line2d_15\">\r\n    <path clip-path=\"url(#p85e38cdfb6)\" d=\"M 58.046307 17.083636 \r\nL 61.120687 142.914271 \r\nL 64.195067 214.756364 \r\nL 67.269447 214.756364 \r\nL 70.343827 214.756364 \r\nL 73.418208 214.756364 \r\nL 76.492588 214.756364 \r\nL 79.566968 214.756364 \r\nL 82.641348 214.756364 \r\nL 85.715728 214.756364 \r\nL 88.790108 214.756364 \r\nL 91.864489 214.756364 \r\nL 94.938869 214.756364 \r\nL 98.013249 214.756364 \r\nL 101.087629 214.756364 \r\nL 104.162009 214.756364 \r\nL 107.236389 214.756364 \r\nL 110.31077 214.756364 \r\nL 113.38515 214.756364 \r\nL 116.45953 214.756364 \r\nL 119.53391 214.756364 \r\nL 122.60829 214.756364 \r\nL 125.68267 214.756364 \r\nL 128.757051 214.756364 \r\nL 131.831431 214.756364 \r\nL 134.905811 214.756364 \r\nL 137.980191 214.756364 \r\nL 141.054571 214.756364 \r\nL 144.128951 214.756364 \r\nL 147.203332 214.756364 \r\nL 150.277712 214.756364 \r\nL 153.352092 214.756364 \r\nL 156.426472 214.756364 \r\nL 159.500852 214.756364 \r\nL 162.575232 214.756364 \r\nL 165.649613 214.756364 \r\nL 168.723993 214.756364 \r\nL 171.798373 214.756364 \r\nL 174.872753 214.756364 \r\nL 177.947133 214.756364 \r\nL 181.021513 214.756364 \r\nL 184.095894 214.756364 \r\nL 187.170274 214.756364 \r\nL 190.244654 214.756364 \r\nL 193.319034 214.756364 \r\nL 196.393414 214.756364 \r\nL 199.467794 214.756364 \r\nL 202.542175 214.756364 \r\nL 205.616555 214.756364 \r\nL 208.690935 214.756364 \r\nL 211.765315 214.756364 \r\nL 214.839695 214.756364 \r\nL 217.914075 214.756364 \r\nL 220.988456 214.756364 \r\nL 224.062836 214.756364 \r\nL 227.137216 214.756364 \r\nL 230.211596 214.756364 \r\nL 233.285976 214.756364 \r\nL 236.360356 214.756364 \r\nL 239.434737 214.756364 \r\nL 242.509117 214.756364 \r\nL 245.583497 214.756364 \r\nL 248.657877 214.756364 \r\nL 251.732257 214.756364 \r\nL 254.806637 214.756364 \r\nL 257.881018 214.756364 \r\nL 260.955398 214.756364 \r\nL 264.029778 214.756364 \r\nL 267.104158 214.756364 \r\nL 270.178538 214.756364 \r\nL 273.252918 214.756364 \r\nL 276.327299 214.756364 \r\nL 279.401679 214.756364 \r\nL 282.476059 214.756364 \r\nL 285.550439 214.756364 \r\nL 288.624819 214.756364 \r\nL 291.699199 214.756364 \r\nL 294.77358 214.756364 \r\nL 297.84796 214.756364 \r\nL 300.92234 214.756364 \r\nL 303.99672 214.756364 \r\nL 307.0711 214.756364 \r\nL 310.14548 214.756364 \r\nL 313.219861 214.756364 \r\nL 316.294241 214.756364 \r\nL 319.368621 214.756364 \r\nL 322.443001 214.756364 \r\nL 325.517381 214.756364 \r\nL 328.591761 214.756364 \r\nL 331.666142 214.756364 \r\nL 334.740522 214.756364 \r\nL 337.814902 214.756364 \r\nL 340.889282 214.756364 \r\nL 343.963662 214.756364 \r\nL 347.038042 214.756364 \r\nL 350.112423 214.756364 \r\nL 353.186803 214.756364 \r\nL 356.261183 214.756364 \r\nL 359.335563 214.756364 \r\nL 362.409943 214.756364 \r\n\" style=\"fill:none;stroke:#1f77b4;stroke-linecap:square;stroke-width:1.5;\"/>\r\n   </g>\r\n   <g id=\"patch_3\">\r\n    <path d=\"M 42.828125 224.64 \r\nL 42.828125 7.2 \r\n\" style=\"fill:none;stroke:#000000;stroke-linecap:square;stroke-linejoin:miter;stroke-width:0.8;\"/>\r\n   </g>\r\n   <g id=\"patch_4\">\r\n    <path d=\"M 377.628125 224.64 \r\nL 377.628125 7.2 \r\n\" style=\"fill:none;stroke:#000000;stroke-linecap:square;stroke-linejoin:miter;stroke-width:0.8;\"/>\r\n   </g>\r\n   <g id=\"patch_5\">\r\n    <path d=\"M 42.828125 224.64 \r\nL 377.628125 224.64 \r\n\" style=\"fill:none;stroke:#000000;stroke-linecap:square;stroke-linejoin:miter;stroke-width:0.8;\"/>\r\n   </g>\r\n   <g id=\"patch_6\">\r\n    <path d=\"M 42.828125 7.2 \r\nL 377.628125 7.2 \r\n\" style=\"fill:none;stroke:#000000;stroke-linecap:square;stroke-linejoin:miter;stroke-width:0.8;\"/>\r\n   </g>\r\n  </g>\r\n </g>\r\n <defs>\r\n  <clipPath id=\"p85e38cdfb6\">\r\n   <rect height=\"217.44\" width=\"334.8\" x=\"42.828125\" y=\"7.2\"/>\r\n  </clipPath>\r\n </defs>\r\n</svg>\r\n",
            "image/png": "[encoded data removed]"
          },
          "metadata": {
            "needs_background": "light"
          }
        }
      ]
    },
    {
      "cell_type": "code",
      "metadata": {
        "colab": {
          "base_uri": "https://localhost:8080/"
        },
        "id": "eilX16x6K6NY",
        "outputId": "db16ed35-b48d-4f0f-c2c4-6a167b4e02d0"
      },
      "source": [
        "X = X_test1.T\n",
        "hlinearTransform = np.dot(wihidden.T, X)\n",
        "hactivations = sigmoid(hlinearTransform)\n",
        "\n",
        "olinearTransform = np.dot(whoutput.T, hactivations)\n",
        "output = sigmoid(olinearTransform)\n",
        "\n",
        "\n",
        "# err = np.average(np.square(y - output))\n",
        "\n",
        "print(output)"
      ],
      "execution_count": 58,
      "outputs": [
        {
          "output_type": "error",
          "ename": "ValueError",
          "evalue": "shapes (10,64) and (0,1796) not aligned: 64 (dim 1) != 0 (dim 0)",
          "traceback": [
            "\u001b[1;31m---------------------------------------------------------------------------\u001b[0m",
            "\u001b[1;31mValueError\u001b[0m                                Traceback (most recent call last)",
            "\u001b[1;32m<ipython-input-58-73cab96e3dd0>\u001b[0m in \u001b[0;36m<module>\u001b[1;34m\u001b[0m\n\u001b[0;32m      1\u001b[0m \u001b[0mX\u001b[0m \u001b[1;33m=\u001b[0m \u001b[0mX_test1\u001b[0m\u001b[1;33m.\u001b[0m\u001b[0mT\u001b[0m\u001b[1;33m\u001b[0m\u001b[0m\n\u001b[1;32m----> 2\u001b[1;33m \u001b[0mhlinearTransform\u001b[0m \u001b[1;33m=\u001b[0m \u001b[0mnp\u001b[0m\u001b[1;33m.\u001b[0m\u001b[0mdot\u001b[0m\u001b[1;33m(\u001b[0m\u001b[0mwihidden\u001b[0m\u001b[1;33m.\u001b[0m\u001b[0mT\u001b[0m\u001b[1;33m,\u001b[0m \u001b[0mX\u001b[0m\u001b[1;33m)\u001b[0m\u001b[1;33m\u001b[0m\u001b[0m\n\u001b[0m\u001b[0;32m      3\u001b[0m \u001b[0mhactivations\u001b[0m \u001b[1;33m=\u001b[0m \u001b[0msigmoid\u001b[0m\u001b[1;33m(\u001b[0m\u001b[0mhlinearTransform\u001b[0m\u001b[1;33m)\u001b[0m\u001b[1;33m\u001b[0m\u001b[0m\n\u001b[0;32m      4\u001b[0m \u001b[1;33m\u001b[0m\u001b[0m\n\u001b[0;32m      5\u001b[0m \u001b[0molinearTransform\u001b[0m \u001b[1;33m=\u001b[0m \u001b[0mnp\u001b[0m\u001b[1;33m.\u001b[0m\u001b[0mdot\u001b[0m\u001b[1;33m(\u001b[0m\u001b[0mwhoutput\u001b[0m\u001b[1;33m.\u001b[0m\u001b[0mT\u001b[0m\u001b[1;33m,\u001b[0m \u001b[0mhactivations\u001b[0m\u001b[1;33m)\u001b[0m\u001b[1;33m\u001b[0m\u001b[0m\n",
            "\u001b[1;31mValueError\u001b[0m: shapes (10,64) and (0,1796) not aligned: 64 (dim 1) != 0 (dim 0)"
          ]
        }
      ]
    },
    {
      "cell_type": "code",
      "execution_count": null,
      "metadata": {},
      "outputs": [],
      "source": []
    }
  ]
}