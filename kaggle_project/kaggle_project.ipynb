{
 "cells": [
  {
   "cell_type": "markdown",
   "metadata": {},
   "source": [
    "### Obesity logistic regression training model"
   ]
  },
  {
   "cell_type": "markdown",
   "metadata": {},
   "source": [
    "ok load the libraries and set your working directory"
   ]
  },
  {
   "cell_type": "code",
   "execution_count": 241,
   "metadata": {},
   "outputs": [],
   "source": [
    "library(tidyverse)\n",
    "library(mosaic)\n",
    "library(broom)"
   ]
  },
  {
   "cell_type": "code",
   "execution_count": 242,
   "metadata": {},
   "outputs": [],
   "source": [
    "#setwd('/media//jochum00/Aagaard_Raid3/michael_files/Rani_Perasani/kaggle_project/')"
   ]
  },
  {
   "cell_type": "markdown",
   "metadata": {},
   "source": [
    "ok lets import the training datasets"
   ]
  },
  {
   "cell_type": "code",
   "execution_count": 243,
   "metadata": {},
   "outputs": [],
   "source": [
    "train_part<-as_tibble(read.csv(\"data/train_participant_data(trainset).csv\",header = T,sep = \",\"))# A tibble: 114 x 21\n",
    "train_walk<-as_tibble(read.csv(\"data/train_walking_data(trainset).csv\",header = T,sep = \",\"))# A tibble: 114 x 21"
   ]
  },
  {
   "cell_type": "markdown",
   "metadata": {},
   "source": [
    "load the testing libraries"
   ]
  },
  {
   "cell_type": "code",
   "execution_count": 244,
   "metadata": {},
   "outputs": [],
   "source": [
    "test_part<-as_tibble(read.csv(\"data/test_participant_data(testset).csv\",header = T,sep = \",\"))# A tibble: 114 x 21\n",
    "test_walk<-as_tibble(read.csv(\"data/test_walking_data(testset).csv\",header = T,sep = \",\"))# A tibble: 114 x 21"
   ]
  },
  {
   "cell_type": "markdown",
   "metadata": {},
   "source": [
    "fix the walking datasets by concatenating the id column"
   ]
  },
  {
   "cell_type": "code",
   "execution_count": 245,
   "metadata": {},
   "outputs": [],
   "source": [
    "#merge the two datasets\n",
    "#train<-merge(train_part,train_walk,by = \"id\")\n",
    "#merge the two testing dataset\n",
    "#test<-merge(test_part,test_walk,by = \"id\")"
   ]
  },
  {
   "cell_type": "code",
   "execution_count": 246,
   "metadata": {},
   "outputs": [
    {
     "data": {
      "text/html": [
       "<style>\n",
       ".list-inline {list-style: none; margin:0; padding: 0}\n",
       ".list-inline>li {display: inline-block}\n",
       ".list-inline>li:not(:last-child)::after {content: \"\\00b7\"; padding: 0 .5ex}\n",
       "</style>\n",
       "<ol class=list-inline><li>2</li><li>2</li><li>4</li><li>3</li><li>3</li><li>2</li><li>3</li><li>3</li><li>2</li><li>2</li><li>2</li><li>2</li><li>1</li><li>2</li><li>2</li><li>2</li><li>2</li><li>2</li><li>2</li><li>2</li><li>3</li><li>2</li><li>4</li><li>3</li><li>2</li><li>4</li><li>2</li><li>4</li><li>3</li><li>2</li><li>2</li><li>2</li><li>2</li><li>2</li><li>2</li><li>2</li><li>3</li><li>2</li><li>2</li><li>3</li><li>2</li><li>4</li><li>4</li><li>4</li><li>2</li><li>3</li><li>2</li><li>3</li><li>2</li><li>2</li><li>3</li><li>3</li><li>2</li><li>2</li><li>2</li><li>4</li><li>2</li><li>2</li><li>4</li><li>2</li><li>2</li><li>2</li><li>2</li><li>3</li><li>2</li><li>4</li><li>2</li><li>3</li><li>2</li><li>2</li><li>2</li><li>2</li><li>2</li><li>2</li><li>1</li><li>2</li><li>3</li><li>4</li><li>3</li><li>2</li><li>2</li><li>2</li><li>2</li><li>2</li><li>2</li><li>2</li><li>2</li><li>3</li><li>4</li><li>4</li><li>2</li><li>2</li><li>2</li><li>2</li><li>4</li><li>3</li><li>2</li><li>2</li><li>2</li><li>2</li><li>2</li><li>2</li><li>2</li><li>2</li><li>2</li><li>2</li><li>2</li><li>2</li><li>2</li><li>2</li><li>3</li><li>3</li><li>3</li><li>2</li></ol>\n"
      ],
      "text/latex": [
       "\\begin{enumerate*}\n",
       "\\item 2\n",
       "\\item 2\n",
       "\\item 4\n",
       "\\item 3\n",
       "\\item 3\n",
       "\\item 2\n",
       "\\item 3\n",
       "\\item 3\n",
       "\\item 2\n",
       "\\item 2\n",
       "\\item 2\n",
       "\\item 2\n",
       "\\item 1\n",
       "\\item 2\n",
       "\\item 2\n",
       "\\item 2\n",
       "\\item 2\n",
       "\\item 2\n",
       "\\item 2\n",
       "\\item 2\n",
       "\\item 3\n",
       "\\item 2\n",
       "\\item 4\n",
       "\\item 3\n",
       "\\item 2\n",
       "\\item 4\n",
       "\\item 2\n",
       "\\item 4\n",
       "\\item 3\n",
       "\\item 2\n",
       "\\item 2\n",
       "\\item 2\n",
       "\\item 2\n",
       "\\item 2\n",
       "\\item 2\n",
       "\\item 2\n",
       "\\item 3\n",
       "\\item 2\n",
       "\\item 2\n",
       "\\item 3\n",
       "\\item 2\n",
       "\\item 4\n",
       "\\item 4\n",
       "\\item 4\n",
       "\\item 2\n",
       "\\item 3\n",
       "\\item 2\n",
       "\\item 3\n",
       "\\item 2\n",
       "\\item 2\n",
       "\\item 3\n",
       "\\item 3\n",
       "\\item 2\n",
       "\\item 2\n",
       "\\item 2\n",
       "\\item 4\n",
       "\\item 2\n",
       "\\item 2\n",
       "\\item 4\n",
       "\\item 2\n",
       "\\item 2\n",
       "\\item 2\n",
       "\\item 2\n",
       "\\item 3\n",
       "\\item 2\n",
       "\\item 4\n",
       "\\item 2\n",
       "\\item 3\n",
       "\\item 2\n",
       "\\item 2\n",
       "\\item 2\n",
       "\\item 2\n",
       "\\item 2\n",
       "\\item 2\n",
       "\\item 1\n",
       "\\item 2\n",
       "\\item 3\n",
       "\\item 4\n",
       "\\item 3\n",
       "\\item 2\n",
       "\\item 2\n",
       "\\item 2\n",
       "\\item 2\n",
       "\\item 2\n",
       "\\item 2\n",
       "\\item 2\n",
       "\\item 2\n",
       "\\item 3\n",
       "\\item 4\n",
       "\\item 4\n",
       "\\item 2\n",
       "\\item 2\n",
       "\\item 2\n",
       "\\item 2\n",
       "\\item 4\n",
       "\\item 3\n",
       "\\item 2\n",
       "\\item 2\n",
       "\\item 2\n",
       "\\item 2\n",
       "\\item 2\n",
       "\\item 2\n",
       "\\item 2\n",
       "\\item 2\n",
       "\\item 2\n",
       "\\item 2\n",
       "\\item 2\n",
       "\\item 2\n",
       "\\item 2\n",
       "\\item 2\n",
       "\\item 3\n",
       "\\item 3\n",
       "\\item 3\n",
       "\\item 2\n",
       "\\end{enumerate*}\n"
      ],
      "text/markdown": [
       "1. 2\n",
       "2. 2\n",
       "3. 4\n",
       "4. 3\n",
       "5. 3\n",
       "6. 2\n",
       "7. 3\n",
       "8. 3\n",
       "9. 2\n",
       "10. 2\n",
       "11. 2\n",
       "12. 2\n",
       "13. 1\n",
       "14. 2\n",
       "15. 2\n",
       "16. 2\n",
       "17. 2\n",
       "18. 2\n",
       "19. 2\n",
       "20. 2\n",
       "21. 3\n",
       "22. 2\n",
       "23. 4\n",
       "24. 3\n",
       "25. 2\n",
       "26. 4\n",
       "27. 2\n",
       "28. 4\n",
       "29. 3\n",
       "30. 2\n",
       "31. 2\n",
       "32. 2\n",
       "33. 2\n",
       "34. 2\n",
       "35. 2\n",
       "36. 2\n",
       "37. 3\n",
       "38. 2\n",
       "39. 2\n",
       "40. 3\n",
       "41. 2\n",
       "42. 4\n",
       "43. 4\n",
       "44. 4\n",
       "45. 2\n",
       "46. 3\n",
       "47. 2\n",
       "48. 3\n",
       "49. 2\n",
       "50. 2\n",
       "51. 3\n",
       "52. 3\n",
       "53. 2\n",
       "54. 2\n",
       "55. 2\n",
       "56. 4\n",
       "57. 2\n",
       "58. 2\n",
       "59. 4\n",
       "60. 2\n",
       "61. 2\n",
       "62. 2\n",
       "63. 2\n",
       "64. 3\n",
       "65. 2\n",
       "66. 4\n",
       "67. 2\n",
       "68. 3\n",
       "69. 2\n",
       "70. 2\n",
       "71. 2\n",
       "72. 2\n",
       "73. 2\n",
       "74. 2\n",
       "75. 1\n",
       "76. 2\n",
       "77. 3\n",
       "78. 4\n",
       "79. 3\n",
       "80. 2\n",
       "81. 2\n",
       "82. 2\n",
       "83. 2\n",
       "84. 2\n",
       "85. 2\n",
       "86. 2\n",
       "87. 2\n",
       "88. 3\n",
       "89. 4\n",
       "90. 4\n",
       "91. 2\n",
       "92. 2\n",
       "93. 2\n",
       "94. 2\n",
       "95. 4\n",
       "96. 3\n",
       "97. 2\n",
       "98. 2\n",
       "99. 2\n",
       "100. 2\n",
       "101. 2\n",
       "102. 2\n",
       "103. 2\n",
       "104. 2\n",
       "105. 2\n",
       "106. 2\n",
       "107. 2\n",
       "108. 2\n",
       "109. 2\n",
       "110. 2\n",
       "111. 3\n",
       "112. 3\n",
       "113. 3\n",
       "114. 2\n",
       "\n",
       "\n"
      ],
      "text/plain": [
       "  [1] 2 2 4 3 3 2 3 3 2 2 2 2 1 2 2 2 2 2 2 2 3 2 4 3 2 4 2 4 3 2 2 2 2 2 2 2 3\n",
       " [38] 2 2 3 2 4 4 4 2 3 2 3 2 2 3 3 2 2 2 4 2 2 4 2 2 2 2 3 2 4 2 3 2 2 2 2 2 2\n",
       " [75] 1 2 3 4 3 2 2 2 2 2 2 2 2 3 4 4 2 2 2 2 4 3 2 2 2 2 2 2 2 2 2 2 2 2 2 2 3\n",
       "[112] 3 3 2"
      ]
     },
     "metadata": {},
     "output_type": "display_data"
    },
    {
     "data": {
      "text/html": [
       "<style>\n",
       ".list-inline {list-style: none; margin:0; padding: 0}\n",
       ".list-inline>li {display: inline-block}\n",
       ".list-inline>li:not(:last-child)::after {content: \"\\00b7\"; padding: 0 .5ex}\n",
       "</style>\n",
       "<ol class=list-inline><li>'id'</li><li>'date'</li><li>'pain'</li><li>'medication'</li><li>'walking'</li><li>'tbi'</li><li>'six_months'</li><li>'multiple_tbi'</li><li>'gender'</li><li>'asian'</li><li>'black'</li><li>'white'</li><li>'other'</li><li>'hispanic'</li><li>'weight'</li><li>'height'</li><li>'start_time'</li><li>'stop_time'</li><li>'valid'</li><li>'BMI_level'</li><li>'Obese'</li></ol>\n"
      ],
      "text/latex": [
       "\\begin{enumerate*}\n",
       "\\item 'id'\n",
       "\\item 'date'\n",
       "\\item 'pain'\n",
       "\\item 'medication'\n",
       "\\item 'walking'\n",
       "\\item 'tbi'\n",
       "\\item 'six\\_months'\n",
       "\\item 'multiple\\_tbi'\n",
       "\\item 'gender'\n",
       "\\item 'asian'\n",
       "\\item 'black'\n",
       "\\item 'white'\n",
       "\\item 'other'\n",
       "\\item 'hispanic'\n",
       "\\item 'weight'\n",
       "\\item 'height'\n",
       "\\item 'start\\_time'\n",
       "\\item 'stop\\_time'\n",
       "\\item 'valid'\n",
       "\\item 'BMI\\_level'\n",
       "\\item 'Obese'\n",
       "\\end{enumerate*}\n"
      ],
      "text/markdown": [
       "1. 'id'\n",
       "2. 'date'\n",
       "3. 'pain'\n",
       "4. 'medication'\n",
       "5. 'walking'\n",
       "6. 'tbi'\n",
       "7. 'six_months'\n",
       "8. 'multiple_tbi'\n",
       "9. 'gender'\n",
       "10. 'asian'\n",
       "11. 'black'\n",
       "12. 'white'\n",
       "13. 'other'\n",
       "14. 'hispanic'\n",
       "15. 'weight'\n",
       "16. 'height'\n",
       "17. 'start_time'\n",
       "18. 'stop_time'\n",
       "19. 'valid'\n",
       "20. 'BMI_level'\n",
       "21. 'Obese'\n",
       "\n",
       "\n"
      ],
      "text/plain": [
       " [1] \"id\"           \"date\"         \"pain\"         \"medication\"   \"walking\"     \n",
       " [6] \"tbi\"          \"six_months\"   \"multiple_tbi\" \"gender\"       \"asian\"       \n",
       "[11] \"black\"        \"white\"        \"other\"        \"hispanic\"     \"weight\"      \n",
       "[16] \"height\"       \"start_time\"   \"stop_time\"    \"valid\"        \"BMI_level\"   \n",
       "[21] \"Obese\"       "
      ]
     },
     "metadata": {},
     "output_type": "display_data"
    }
   ],
   "source": [
    "###########\n",
    "#filler code, delete this later\n",
    "###########\n",
    "train<-train_part\n",
    "test<-test_part\n",
    "train$BMI_level\n",
    "colnames(train)"
   ]
  },
  {
   "cell_type": "code",
   "execution_count": 247,
   "metadata": {},
   "outputs": [
    {
     "data": {
      "image/png": "[encoded data removed]",
      "text/plain": [
       "plot without title"
      ]
     },
     "metadata": {
      "image/png": {
       "height": 420,
       "width": 420
      }
     },
     "output_type": "display_data"
    }
   ],
   "source": [
    "library(ggpubr)\n",
    "ggdensity(data=train,x = \"BMI_level\",color =\"Obese\",fill=\"Obese\")"
   ]
  },
  {
   "cell_type": "code",
   "execution_count": null,
   "metadata": {},
   "outputs": [],
   "source": []
  },
  {
   "cell_type": "markdown",
   "metadata": {},
   "source": [
    "ok lets start by cleaning up the data a bit"
   ]
  },
  {
   "cell_type": "markdown",
   "metadata": {},
   "source": [
    "- First lets fix these date time formats"
   ]
  },
  {
   "cell_type": "code",
   "execution_count": 248,
   "metadata": {},
   "outputs": [],
   "source": [
    "train$date<-as.Date(train$date,tryFormats = \"%m/%d/%Y %H:%M\")\n",
    "test$date<-as.Date(test$date,tryFormats = \"%m/%d/%Y %H:%M\")"
   ]
  },
  {
   "cell_type": "code",
   "execution_count": 249,
   "metadata": {},
   "outputs": [],
   "source": [
    "# # good now lets merge the race columns\n",
    "# race<-train%>%\n",
    "#   select(c(id,asian,black,white,other,hispanic))%>%\n",
    "#   pivot_longer(cols = c(asian,black,white,other,hispanic),names_to=\"race\")%>%\n",
    "#   filter(value==TRUE)%>%\n",
    "#   group_by(id,race)"
   ]
  },
  {
   "cell_type": "code",
   "execution_count": 250,
   "metadata": {},
   "outputs": [],
   "source": [
    "# ok lets split our training data into 80:20 for testing\n",
    "#train<-train\n",
    "#train<-head(train,91L)\n",
    "#test<-tail(train,23L)"
   ]
  },
  {
   "cell_type": "markdown",
   "metadata": {},
   "source": [
    "### logistic regression model (parallel slopes)"
   ]
  },
  {
   "cell_type": "markdown",
   "metadata": {},
   "source": [
    "maybe lets try building the obesity model based on BMI score because it has higher resolution than 1 or 0 for obese"
   ]
  },
  {
   "cell_type": "code",
   "execution_count": 251,
   "metadata": {},
   "outputs": [],
   "source": [
    "mod_glm<- glm(formula = BMI_level ~ id+\n",
    "                date+\n",
    "                pain+\n",
    "                medication+\n",
    "                walking+\n",
    "                tbi+\n",
    "                six_months+\n",
    "                multiple_tbi+\n",
    "                gender+ \n",
    "                asian+\n",
    "                black+\n",
    "                white+\n",
    "                other+\n",
    "                hispanic+\n",
    "                # weight+\n",
    "                #  height+\n",
    "                valid,family = gaussian,\n",
    "              data = train)"
   ]
  },
  {
   "cell_type": "markdown",
   "metadata": {},
   "source": [
    "logistic regression (interaction slopes)"
   ]
  },
  {
   "cell_type": "code",
   "execution_count": 252,
   "metadata": {},
   "outputs": [],
   "source": [
    "mod_glm_inter<- glm(formula = BMI_level ~ id+\n",
    "                   id*date+\n",
    "                  id*pain+\n",
    "                  id*medication+\n",
    "                  id*walking+\n",
    "                  id*tbi+\n",
    "                  id*six_months+\n",
    "                  id*multiple_tbi+\n",
    "                 id*gender*asian*black*white*other*hispanic+\n",
    "                 # weight+\n",
    "                 #  height+\n",
    "                  valid,family = gaussian,\n",
    "                data = train)"
   ]
  },
  {
   "cell_type": "markdown",
   "metadata": {},
   "source": [
    " ok lets get a summary of our model"
   ]
  },
  {
   "cell_type": "code",
   "execution_count": 253,
   "metadata": {},
   "outputs": [
    {
     "data": {
      "text/plain": [
       "Coefficients: (5 not defined because of singularities)\n",
       "                   Estimate Std. Error t value Pr(>|t|)   \n",
       "(Intercept)       1.898e+02  6.361e+02   0.298  0.76598   \n",
       "id               -7.342e-04  2.184e-03  -0.336  0.73739   \n",
       "date             -1.033e-02  3.496e-02  -0.295  0.76827   \n",
       "\n",
       "(Dispersion parameter for gaussian family taken to be 0.5168771)\n",
       "\n",
       "    Null deviance: 59.789  on 113  degrees of freedom\n",
       "Residual deviance: 53.238  on 103  degrees of freedom\n",
       "AIC: 260.72\n",
       "\n",
       "Number of Fisher Scoring iterations: 2"
      ]
     },
     "metadata": {},
     "output_type": "display_data"
    },
    {
     "data": {
      "text/plain": [
       "Coefficients: (121 not defined because of singularities)\n",
       "                                                                     Estimate\n",
       "(Intercept)                                                         2.593e+03\n",
       "id                                                                 -1.763e+01\n",
       "date                                                               -1.422e-01\n",
       "\n",
       "(Dispersion parameter for gaussian family taken to be 0.521774)\n",
       "\n",
       "    Null deviance: 59.789  on 113  degrees of freedom\n",
       "Residual deviance: 48.003  on  92  degrees of freedom\n",
       "AIC: 270.92\n",
       "\n",
       "Number of Fisher Scoring iterations: 2"
      ]
     },
     "metadata": {},
     "output_type": "display_data"
    }
   ],
   "source": [
    "msummary(mod_glm)\n",
    "msummary(mod_glm_inter)"
   ]
  },
  {
   "cell_type": "code",
   "execution_count": 254,
   "metadata": {},
   "outputs": [],
   "source": [
    "##################################################################################\n",
    "# I commented lines 111 to 131 out to save time, \n",
    "#but you should uncomment them out when you run the model to get the results\n",
    "#############################################################################"
   ]
  },
  {
   "cell_type": "code",
   "execution_count": 255,
   "metadata": {},
   "outputs": [],
   "source": [
    "#get the odds ratio\n",
    "# OR<-tidy(mod_glm, conf.int=T,exponentiate = T)\n",
    "# #OR"
   ]
  },
  {
   "cell_type": "code",
   "execution_count": 256,
   "metadata": {},
   "outputs": [],
   "source": [
    "# #get the analysis of variance"
   ]
  },
  {
   "cell_type": "code",
   "execution_count": 257,
   "metadata": {},
   "outputs": [],
   "source": [
    "# mod_glm_aov<-anova(mod_glm)\n",
    "# #mod_glm_aov"
   ]
  },
  {
   "cell_type": "code",
   "execution_count": 258,
   "metadata": {},
   "outputs": [],
   "source": [
    "# #get the coefficients\n",
    "# mod_glm_coef<-coef(mod_glm)\n",
    "# #mod_glm_coef"
   ]
  },
  {
   "cell_type": "code",
   "execution_count": 259,
   "metadata": {},
   "outputs": [],
   "source": [
    "# #get the 95% confidence intervals\n",
    "# mod_glm_confint<-confint(mod_glm)\n",
    "# #mod_glm_confint"
   ]
  },
  {
   "cell_type": "code",
   "execution_count": 260,
   "metadata": {},
   "outputs": [],
   "source": [
    "# #get the r squared vaslus\n",
    "# mod_glm_rqsuared<-rsquared(mod_glm)\n",
    "# #mod_glm_rqsuared"
   ]
  },
  {
   "cell_type": "code",
   "execution_count": 261,
   "metadata": {},
   "outputs": [],
   "source": [
    "# #Diagnostics; plot residuals"
   ]
  },
  {
   "cell_type": "code",
   "execution_count": 262,
   "metadata": {},
   "outputs": [],
   "source": [
    "# gf_dhistogram(~resid(mod_glm))\n",
    "# gf_qq(~resid(mod_glm))"
   ]
  },
  {
   "cell_type": "code",
   "execution_count": 263,
   "metadata": {},
   "outputs": [],
   "source": [
    "# #Diagnostics; plot residuals vs. fitted"
   ]
  },
  {
   "cell_type": "code",
   "execution_count": 264,
   "metadata": {},
   "outputs": [],
   "source": [
    "# gf_point(resid(mod_glm) ~fitted(mod_glm))"
   ]
  },
  {
   "cell_type": "code",
   "execution_count": 268,
   "metadata": {},
   "outputs": [],
   "source": [
    "#make a function based on the model\n",
    "mod_glm_fun <- makeFun(mod_glm)\n",
    "mod_glm_inter_fun <- makeFun(mod_glm_inter)"
   ]
  },
  {
   "cell_type": "code",
   "execution_count": 269,
   "metadata": {},
   "outputs": [
    {
     "name": "stderr",
     "output_type": "stream",
     "text": [
      "Warning message in predict.lm(object, newdata, se.fit, scale = 1, type = if (type == :\n",
      "“prediction from a rank-deficient fit may be misleading”\n",
      "Warning message in predict.lm(object, newdata, se.fit, scale = 1, type = if (type == :\n",
      "“prediction from a rank-deficient fit may be misleading”\n"
     ]
    }
   ],
   "source": [
    "# predict based on training data \n",
    "#(bad, this can cause overfitting,the right answer is to cut out 20% from the model \n",
    "# build and run it as test)\n",
    "train$BMI_glm_pred<-mod_glm_fun(id = train$id,\n",
    "                                     date = train$date,\n",
    "                                     pain = train$pain,\n",
    "                                     medication = train$medication,\n",
    "                                     walking = train$walking,\n",
    "                                     tbi = train$tbi,\n",
    "                                     six_months = train$six_months,\n",
    "                                     multiple_tbi = train$multiple_tbi,\n",
    "                                     gender = train$gender,\n",
    "                                     asian = train$asian,\n",
    "                                     black = train$black,\n",
    "                                     white = train$white,\n",
    "                                     other = train$other,\n",
    "                                     hispanic = train$hispanic,\n",
    "                                  #   weight = NULL,\n",
    "                                  #   height = NULL,\n",
    "                                     valid = train$valid)\n",
    "train$BMI_glm_pred<-mod_glm_inter_fun(id = train$id,\n",
    "                                     date = train$date,\n",
    "                                     pain = train$pain,\n",
    "                                     medication = train$medication,\n",
    "                                     walking = train$walking,\n",
    "                                     tbi = train$tbi,\n",
    "                                     six_months = train$six_months,\n",
    "                                     multiple_tbi = train$multiple_tbi,\n",
    "                                     gender = train$gender,\n",
    "                                     asian = train$asian,\n",
    "                                     black = train$black,\n",
    "                                     white = train$white,\n",
    "                                     other = train$other,\n",
    "                                     hispanic = train$hispanic,\n",
    "                                  #   weight = NULL,\n",
    "                                  #   height = NULL,\n",
    "                                     valid = train$valid)"
   ]
  },
  {
   "cell_type": "code",
   "execution_count": 267,
   "metadata": {},
   "outputs": [],
   "source": [
    "#predict based on test data"
   ]
  },
  {
   "cell_type": "code",
   "execution_count": 270,
   "metadata": {},
   "outputs": [
    {
     "name": "stderr",
     "output_type": "stream",
     "text": [
      "Warning message in predict.lm(object, newdata, se.fit, scale = 1, type = if (type == :\n",
      "“prediction from a rank-deficient fit may be misleading”\n",
      "Warning message in predict.lm(object, newdata, se.fit, scale = 1, type = if (type == :\n",
      "“prediction from a rank-deficient fit may be misleading”\n"
     ]
    }
   ],
   "source": [
    "test$BMI_glm_pred<-mod_glm_fun(id = test$id,\n",
    "                                    date = test$date,\n",
    "                                    pain = test$pain,\n",
    "                                    medication = test$medication,\n",
    "                                    walking = test$walking,\n",
    "                                    tbi = test$tbi,\n",
    "                                    six_months = test$six_months,\n",
    "                                    multiple_tbi = test$multiple_tbi,\n",
    "                                    gender = test$gender,\n",
    "                                    asian = test$asian,\n",
    "                                    black = test$black,\n",
    "                                    white = test$white,\n",
    "                                    other = test$other,\n",
    "                                    hispanic = test$hispanic,\n",
    "                                    #   weight = NULL,\n",
    "                                    #   height = NULL,\n",
    "                                    valid = test$valid)\n",
    "test$BMI_glm_pred<-mod_glm_inter_fun(id = test$id,\n",
    "                                    date = test$date,\n",
    "                                    pain = test$pain,\n",
    "                                    medication = test$medication,\n",
    "                                    walking = test$walking,\n",
    "                                    tbi = test$tbi,\n",
    "                                    six_months = test$six_months,\n",
    "                                    multiple_tbi = test$multiple_tbi,\n",
    "                                    gender = test$gender,\n",
    "                                    asian = test$asian,\n",
    "                                    black = test$black,\n",
    "                                    white = test$white,\n",
    "                                    other = test$other,\n",
    "                                    hispanic = test$hispanic,\n",
    "                                    #   weight = NULL,\n",
    "                                    #   height = NULL,\n",
    "                                    valid = test$valid)"
   ]
  },
  {
   "cell_type": "markdown",
   "metadata": {},
   "source": [
    "### Model evaluation"
   ]
  },
  {
   "cell_type": "markdown",
   "metadata": {},
   "source": [
    "convert the results from a double to an interger by rounding"
   ]
  },
  {
   "cell_type": "code",
   "execution_count": 271,
   "metadata": {},
   "outputs": [],
   "source": [
    "#train$BMI_glm_pred<-round(train$BMI_glm_pred,digits = 0, )\n",
    "#test$BMI_glm_pred<-round(test$BMI_glm_pred,digits = 0)"
   ]
  },
  {
   "cell_type": "code",
   "execution_count": 272,
   "metadata": {},
   "outputs": [
    {
     "data": {
      "image/png": "[encoded data removed]",
      "text/plain": [
       "plot without title"
      ]
     },
     "metadata": {
      "image/png": {
       "height": 420,
       "width": 420
      }
     },
     "output_type": "display_data"
    }
   ],
   "source": [
    "ggscatter(data = train,x = \"BMI_glm_pred\",y = \"BMI_level\")\n"
   ]
  },
  {
   "cell_type": "code",
   "execution_count": null,
   "metadata": {},
   "outputs": [],
   "source": []
  },
  {
   "cell_type": "markdown",
   "metadata": {},
   "source": [
    "make an \"obese prediction column that cuts off the TRUE/False at a specific cutoff"
   ]
  },
  {
   "cell_type": "code",
   "execution_count": 304,
   "metadata": {},
   "outputs": [],
   "source": [
    "train$BMI_glm_predObese<-train$BMI_glm_pred<2.6\n",
    "test$BMI_glm_predObese<-test$BMI_glm_pred<2.6"
   ]
  },
  {
   "cell_type": "markdown",
   "metadata": {},
   "source": [
    "bind the columns id and glm predicted into a df called res as results"
   ]
  },
  {
   "cell_type": "code",
   "execution_count": 306,
   "metadata": {},
   "outputs": [],
   "source": [
    "res<-cbind(test$id,test$BMI_glm_pred,test$BMI_glm_predObese)\n",
    "# train_res<-cbind(train$id,train$Obese,train$Obese_pred)\n",
    "write.table(train_res,\"train_res.tsv\",row.names = F,sep = \"\\t\")\n",
    "write.table(res,\"res.tsv\",row.names = F,sep = \"\\t\")"
   ]
  },
  {
   "cell_type": "markdown",
   "metadata": {},
   "source": [
    "convert to a tibble"
   ]
  },
  {
   "cell_type": "markdown",
   "metadata": {},
   "source": [
    "I found out by looking at the results that we should cut off at BMI>2.6 instead of justrounding....lets try it out!"
   ]
  },
  {
   "cell_type": "code",
   "execution_count": 132,
   "metadata": {},
   "outputs": [],
   "source": [
    "#train_wrong<-filter(`.data` = train,id>83)\n",
    "#cbind(train_wrong$id,train_wrong$BMI_level,train_wrong$BMI_glm_pred)"
   ]
  },
  {
   "cell_type": "code",
   "execution_count": null,
   "metadata": {},
   "outputs": [],
   "source": []
  },
  {
   "cell_type": "code",
   "execution_count": 275,
   "metadata": {},
   "outputs": [
    {
     "data": {
      "text/html": [
       "<table>\n",
       "<caption>A tibble: 6 × 2</caption>\n",
       "<thead>\n",
       "\t<tr><th scope=col>V1</th><th scope=col>V2</th></tr>\n",
       "\t<tr><th scope=col>&lt;dbl&gt;</th><th scope=col>&lt;dbl&gt;</th></tr>\n",
       "</thead>\n",
       "<tbody>\n",
       "\t<tr><td>1</td><td> 2.29831179</td></tr>\n",
       "\t<tr><td>2</td><td> 2.29836458</td></tr>\n",
       "\t<tr><td>3</td><td> 2.54372077</td></tr>\n",
       "\t<tr><td>4</td><td> 1.74509180</td></tr>\n",
       "\t<tr><td>5</td><td> 2.97456887</td></tr>\n",
       "\t<tr><td>6</td><td>-0.06265841</td></tr>\n",
       "</tbody>\n",
       "</table>\n"
      ],
      "text/latex": [
       "A tibble: 6 × 2\n",
       "\\begin{tabular}{ll}\n",
       " V1 & V2\\\\\n",
       " <dbl> & <dbl>\\\\\n",
       "\\hline\n",
       "\t 1 &  2.29831179\\\\\n",
       "\t 2 &  2.29836458\\\\\n",
       "\t 3 &  2.54372077\\\\\n",
       "\t 4 &  1.74509180\\\\\n",
       "\t 5 &  2.97456887\\\\\n",
       "\t 6 & -0.06265841\\\\\n",
       "\\end{tabular}\n"
      ],
      "text/markdown": [
       "\n",
       "A tibble: 6 × 2\n",
       "\n",
       "| V1 &lt;dbl&gt; | V2 &lt;dbl&gt; |\n",
       "|---|---|\n",
       "| 1 |  2.29831179 |\n",
       "| 2 |  2.29836458 |\n",
       "| 3 |  2.54372077 |\n",
       "| 4 |  1.74509180 |\n",
       "| 5 |  2.97456887 |\n",
       "| 6 | -0.06265841 |\n",
       "\n"
      ],
      "text/plain": [
       "  V1 V2         \n",
       "1 1   2.29831179\n",
       "2 2   2.29836458\n",
       "3 3   2.54372077\n",
       "4 4   1.74509180\n",
       "5 5   2.97456887\n",
       "6 6  -0.06265841"
      ]
     },
     "metadata": {},
     "output_type": "display_data"
    }
   ],
   "source": [
    "res<-as_tibble(res)\n",
    "head(res)"
   ]
  },
  {
   "cell_type": "code",
   "execution_count": 287,
   "metadata": {},
   "outputs": [],
   "source": [
    "#adding the column\n",
    "#warning: this calum if called obese, but its really the \n",
    "#BMI score and needs to be converted into a 1 or a 0\n",
    "#colnames(res)<-c(\"id\",\"Obese\")\n",
    "#red<-filter(`Obese` = train,id>83)"
   ]
  },
  {
   "cell_type": "code",
   "execution_count": 288,
   "metadata": {},
   "outputs": [],
   "source": [
    "write.table(res,\"res.tsv\",sep = \"\\t\",quote = F,row.names = F)"
   ]
  },
  {
   "cell_type": "code",
   "execution_count": 292,
   "metadata": {},
   "outputs": [
    {
     "data": {
      "text/html": [
       "<style>\n",
       ".dl-inline {width: auto; margin:0; padding: 0}\n",
       ".dl-inline>dt, .dl-inline>dd {float: none; width: auto; display: inline-block}\n",
       ".dl-inline>dt::after {content: \":\\0020\"; padding-right: .5ex}\n",
       ".dl-inline>dt:not(:first-of-type) {padding-left: .5ex}\n",
       "</style><dl class=dl-inline><dt>1</dt><dd>2.29831178526499</dd><dt>2</dt><dd>2.29836457819434</dd><dt>3</dt><dd>2.54372077442748</dd><dt>4</dt><dd>1.74509180149833</dd><dt>5</dt><dd>2.9745688658821</dd><dt>6</dt><dd>-0.0626584080142972</dd><dt>7</dt><dd>1.9589015592324</dd><dt>8</dt><dd>3.07357417691414</dd><dt>9</dt><dd>0.00765841355829414</dd><dt>10</dt><dd>2.67648641209398</dd><dt>11</dt><dd>3.05713675103891</dd><dt>12</dt><dd>2.5292452443162</dd><dt>13</dt><dd>1.78040368537786</dd><dt>14</dt><dd>2.52602845984683</dd><dt>15</dt><dd>0.148292056703903</dd><dt>16</dt><dd>1.79217431333756</dd><dt>17</dt><dd>2.67011095005648</dd><dt>18</dt><dd>3.01878275732896</dd><dt>19</dt><dd>3.0133036153709</dd><dt>20</dt><dd>1.80786848395095</dd><dt>21</dt><dd>2.66646782889233</dd><dt>22</dt><dd>2.51316132196981</dd><dt>23</dt><dd>2.29947322971213</dd><dt>24</dt><dd>5.30053841448008</dd><dt>25</dt><dd>6.03158260566726</dd><dt>26</dt><dd>2.50672775303153</dd><dt>27</dt><dd>1.83533328252403</dd><dt>28</dt><dd>2.50351096856216</dd><dt>29</dt><dd>2.29978998728871</dd><dt>30</dt><dd>2.29984278021811</dd><dt>31</dt><dd>2.29989557314746</dd><dt>32</dt><dd>2.94207476991032</dd><dt>33</dt><dd>1.85887453844388</dd><dt>34</dt><dd>1.86279808109711</dd><dt>35</dt><dd>1.86672162375034</dd><dt>36</dt><dd>2.92015820207626</dd><dt>37</dt><dd>0.049482018843918</dd><dt>38</dt><dd>7.3837268007346</dd><dt>39</dt><dd>2.3003179165829</dd><dt>40</dt><dd>7.71828348330008</dd><dt>41</dt><dd>1.89026287967019</dd><dt>42</dt><dd>2.8872833503254</dd><dt>43</dt><dd>1.89810996497666</dd><dt>44</dt><dd>1.24841456135928</dd><dt>45</dt><dd>2.87084592444968</dd><dt>46</dt><dd>2.77156730895547</dd><dt>47</dt><dd>1.91380413558981</dd><dt>48</dt><dd>2.85440849857442</dd><dt>49</dt><dd>2.46973473163521</dd><dt>50</dt><dd>2.46812633940052</dd><dt>51</dt><dd>2.46651794716584</dd><dt>52</dt><dd>2.83249193074014</dd><dt>53</dt><dd>1.93734539150955</dd><dt>54</dt><dd>2.41933218401826</dd><dt>55</dt><dd>2.81605450486499</dd><dt>56</dt><dd>2.30121539638313</dd></dl>\n"
      ],
      "text/latex": [
       "\\begin{description*}\n",
       "\\item[1] 2.29831178526499\n",
       "\\item[2] 2.29836457819434\n",
       "\\item[3] 2.54372077442748\n",
       "\\item[4] 1.74509180149833\n",
       "\\item[5] 2.9745688658821\n",
       "\\item[6] -0.0626584080142972\n",
       "\\item[7] 1.9589015592324\n",
       "\\item[8] 3.07357417691414\n",
       "\\item[9] 0.00765841355829414\n",
       "\\item[10] 2.67648641209398\n",
       "\\item[11] 3.05713675103891\n",
       "\\item[12] 2.5292452443162\n",
       "\\item[13] 1.78040368537786\n",
       "\\item[14] 2.52602845984683\n",
       "\\item[15] 0.148292056703903\n",
       "\\item[16] 1.79217431333756\n",
       "\\item[17] 2.67011095005648\n",
       "\\item[18] 3.01878275732896\n",
       "\\item[19] 3.0133036153709\n",
       "\\item[20] 1.80786848395095\n",
       "\\item[21] 2.66646782889233\n",
       "\\item[22] 2.51316132196981\n",
       "\\item[23] 2.29947322971213\n",
       "\\item[24] 5.30053841448008\n",
       "\\item[25] 6.03158260566726\n",
       "\\item[26] 2.50672775303153\n",
       "\\item[27] 1.83533328252403\n",
       "\\item[28] 2.50351096856216\n",
       "\\item[29] 2.29978998728871\n",
       "\\item[30] 2.29984278021811\n",
       "\\item[31] 2.29989557314746\n",
       "\\item[32] 2.94207476991032\n",
       "\\item[33] 1.85887453844388\n",
       "\\item[34] 1.86279808109711\n",
       "\\item[35] 1.86672162375034\n",
       "\\item[36] 2.92015820207626\n",
       "\\item[37] 0.049482018843918\n",
       "\\item[38] 7.3837268007346\n",
       "\\item[39] 2.3003179165829\n",
       "\\item[40] 7.71828348330008\n",
       "\\item[41] 1.89026287967019\n",
       "\\item[42] 2.8872833503254\n",
       "\\item[43] 1.89810996497666\n",
       "\\item[44] 1.24841456135928\n",
       "\\item[45] 2.87084592444968\n",
       "\\item[46] 2.77156730895547\n",
       "\\item[47] 1.91380413558981\n",
       "\\item[48] 2.85440849857442\n",
       "\\item[49] 2.46973473163521\n",
       "\\item[50] 2.46812633940052\n",
       "\\item[51] 2.46651794716584\n",
       "\\item[52] 2.83249193074014\n",
       "\\item[53] 1.93734539150955\n",
       "\\item[54] 2.41933218401826\n",
       "\\item[55] 2.81605450486499\n",
       "\\item[56] 2.30121539638313\n",
       "\\end{description*}\n"
      ],
      "text/markdown": [
       "1\n",
       ":   2.298311785264992\n",
       ":   2.298364578194343\n",
       ":   2.543720774427484\n",
       ":   1.745091801498335\n",
       ":   2.97456886588216\n",
       ":   -0.06265840801429727\n",
       ":   1.95890155923248\n",
       ":   3.073574176914149\n",
       ":   0.0076584135582941410\n",
       ":   2.6764864120939811\n",
       ":   3.0571367510389112\n",
       ":   2.529245244316213\n",
       ":   1.7804036853778614\n",
       ":   2.5260284598468315\n",
       ":   0.14829205670390316\n",
       ":   1.7921743133375617\n",
       ":   2.6701109500564818\n",
       ":   3.0187827573289619\n",
       ":   3.013303615370920\n",
       ":   1.8078684839509521\n",
       ":   2.6664678288923322\n",
       ":   2.5131613219698123\n",
       ":   2.2994732297121324\n",
       ":   5.3005384144800825\n",
       ":   6.0315826056672626\n",
       ":   2.5067277530315327\n",
       ":   1.8353332825240328\n",
       ":   2.5035109685621629\n",
       ":   2.2997899872887130\n",
       ":   2.2998427802181131\n",
       ":   2.2998955731474632\n",
       ":   2.9420747699103233\n",
       ":   1.8588745384438834\n",
       ":   1.8627980810971135\n",
       ":   1.8667216237503436\n",
       ":   2.9201582020762637\n",
       ":   0.04948201884391838\n",
       ":   7.383726800734639\n",
       ":   2.300317916582940\n",
       ":   7.7182834833000841\n",
       ":   1.8902628796701942\n",
       ":   2.887283350325443\n",
       ":   1.8981099649766644\n",
       ":   1.2484145613592845\n",
       ":   2.8708459244496846\n",
       ":   2.7715673089554747\n",
       ":   1.9138041355898148\n",
       ":   2.8544084985744249\n",
       ":   2.4697347316352150\n",
       ":   2.4681263394005251\n",
       ":   2.4665179471658452\n",
       ":   2.8324919307401453\n",
       ":   1.9373453915095554\n",
       ":   2.4193321840182655\n",
       ":   2.8160545048649956\n",
       ":   2.30121539638313\n",
       "\n"
      ],
      "text/plain": [
       "           1            2            3            4            5            6 \n",
       " 2.298311785  2.298364578  2.543720774  1.745091801  2.974568866 -0.062658408 \n",
       "           7            8            9           10           11           12 \n",
       " 1.958901559  3.073574177  0.007658414  2.676486412  3.057136751  2.529245244 \n",
       "          13           14           15           16           17           18 \n",
       " 1.780403685  2.526028460  0.148292057  1.792174313  2.670110950  3.018782757 \n",
       "          19           20           21           22           23           24 \n",
       " 3.013303615  1.807868484  2.666467829  2.513161322  2.299473230  5.300538414 \n",
       "          25           26           27           28           29           30 \n",
       " 6.031582606  2.506727753  1.835333283  2.503510969  2.299789987  2.299842780 \n",
       "          31           32           33           34           35           36 \n",
       " 2.299895573  2.942074770  1.858874538  1.862798081  1.866721624  2.920158202 \n",
       "          37           38           39           40           41           42 \n",
       " 0.049482019  7.383726801  2.300317917  7.718283483  1.890262880  2.887283350 \n",
       "          43           44           45           46           47           48 \n",
       " 1.898109965  1.248414561  2.870845924  2.771567309  1.913804136  2.854408499 \n",
       "          49           50           51           52           53           54 \n",
       " 2.469734732  2.468126339  2.466517947  2.832491931  1.937345392  2.419332184 \n",
       "          55           56 \n",
       " 2.816054505  2.301215396 "
      ]
     },
     "metadata": {},
     "output_type": "display_data"
    }
   ],
   "source": [
    "#figure out if this model was correct or not based on the trainin data (again.... not great)\n",
    "test$BMI_glm_pred"
   ]
  },
  {
   "cell_type": "code",
   "execution_count": 293,
   "metadata": {},
   "outputs": [],
   "source": [
    "train$glmdiff<-train$BMI_glm_pred==train$BMI_level"
   ]
  },
  {
   "cell_type": "code",
   "execution_count": 294,
   "metadata": {},
   "outputs": [
    {
     "data": {
      "image/png": "[encoded data removed]",
      "text/plain": [
       "plot without title"
      ]
     },
     "metadata": {
      "image/png": {
       "height": 420,
       "width": 420
      }
     },
     "output_type": "display_data"
    }
   ],
   "source": [
    "library(ggpubr)\n",
    "ggboxplot(data = train,x = \"glmdiff\",y = \"BMI_glm_pred\",add=\"jitter\",color=\"glmdiff\",fill=\"glmdiff\")"
   ]
  },
  {
   "cell_type": "code",
   "execution_count": 295,
   "metadata": {},
   "outputs": [
    {
     "data": {
      "text/plain": [
       "train$glmdiff\n",
       " TRUE FALSE \n",
       "    1   113 "
      ]
     },
     "metadata": {},
     "output_type": "display_data"
    },
    {
     "data": {
      "text/plain": [
       "train$glmdiff\n",
       "     TRUE     FALSE \n",
       " 0.877193 99.122807 "
      ]
     },
     "metadata": {},
     "output_type": "display_data"
    }
   ],
   "source": [
    "tally(~train$glmdiff)\n",
    "tally(~train$glmdiff,format = \"percent\")"
   ]
  },
  {
   "cell_type": "code",
   "execution_count": 296,
   "metadata": {},
   "outputs": [],
   "source": [
    "#export the training data to a tsv file"
   ]
  },
  {
   "cell_type": "code",
   "execution_count": 297,
   "metadata": {},
   "outputs": [],
   "source": [
    "write.table(train,\"train.tsv\",sep = \"\\t\",quote = F,row.names = F)"
   ]
  },
  {
   "cell_type": "code",
   "execution_count": 298,
   "metadata": {},
   "outputs": [],
   "source": [
    "#make a ggplot 2 scatter plot that shows that actual versus predicted with the training model"
   ]
  },
  {
   "cell_type": "code",
   "execution_count": 299,
   "metadata": {},
   "outputs": [
    {
     "data": {
      "image/png": "[encoded data removed]",
      "text/plain": [
       "plot without title"
      ]
     },
     "metadata": {
      "image/png": {
       "height": 420,
       "width": 420
      }
     },
     "output_type": "display_data"
    }
   ],
   "source": [
    "scatter<-ggplot(train)+geom_point(mapping = aes(x = BMI_level, y=BMI_glm_pred))\n",
    "scatter"
   ]
  },
  {
   "cell_type": "code",
   "execution_count": 300,
   "metadata": {},
   "outputs": [
    {
     "data": {
      "image/png": "[encoded data removed]",
      "text/plain": [
       "plot without title"
      ]
     },
     "metadata": {
      "image/png": {
       "height": 420,
       "width": 420
      }
     },
     "output_type": "display_data"
    }
   ],
   "source": [
    "bar<-ggplot(train)+geom_bar(mapping = aes(x = glmdiff))\n",
    "bar"
   ]
  },
  {
   "cell_type": "code",
   "execution_count": 78,
   "metadata": {},
   "outputs": [],
   "source": [
    "#how to improve this model\n",
    "\n",
    "#instead of convert the results from a double to an interger by rounding up or down\n",
    "\n",
    "#incorporate the start and stop times in difference by converting to seconds and then building it into the model\n",
    "\n",
    "#incorporate the interaction slopes into the model\n",
    "\n",
    "#look at the differences with the things that were close to being bmi4 but not bmi4\n",
    "\n",
    "\n",
    "\n",
    "#add the walking data to the analysis portion\n",
    "\n",
    "\n",
    "# good now lets merge the race columns"
   ]
  },
  {
   "cell_type": "code",
   "execution_count": null,
   "metadata": {},
   "outputs": [],
   "source": []
  }
 ],
 "metadata": {
  "kernelspec": {
   "display_name": "R",
   "language": "R",
   "name": "ir"
  },
  "language_info": {
   "codemirror_mode": "r",
   "file_extension": ".r",
   "mimetype": "text/x-r-source",
   "name": "R",
   "pygments_lexer": "r",
   "version": "4.0.3"
  }
 },
 "nbformat": 4,
 "nbformat_minor": 4
}
